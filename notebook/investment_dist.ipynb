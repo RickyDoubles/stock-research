{
 "cells": [
  {
   "cell_type": "markdown",
   "metadata": {},
   "source": [
    "## Investment Distribution"
   ]
  },
  {
   "cell_type": "code",
   "execution_count": 2,
   "metadata": {},
   "outputs": [],
   "source": [
    "import matplotlib.pyplot as plt\n",
    "import pandas as pd\n",
    "import numpy as np"
   ]
  },
  {
   "cell_type": "code",
   "execution_count": 5,
   "metadata": {},
   "outputs": [
    {
     "data": {
      "text/html": [
       "<div>\n",
       "<style scoped>\n",
       "    .dataframe tbody tr th:only-of-type {\n",
       "        vertical-align: middle;\n",
       "    }\n",
       "\n",
       "    .dataframe tbody tr th {\n",
       "        vertical-align: top;\n",
       "    }\n",
       "\n",
       "    .dataframe thead th {\n",
       "        text-align: right;\n",
       "    }\n",
       "</style>\n",
       "<table border=\"1\" class=\"dataframe\">\n",
       "  <thead>\n",
       "    <tr style=\"text-align: right;\">\n",
       "      <th></th>\n",
       "      <th>Ticker Symbol</th>\n",
       "      <th>Stock Price</th>\n",
       "      <th>Profit Margin</th>\n",
       "      <th>Working Capital Ratio</th>\n",
       "      <th>Quick Ratio</th>\n",
       "      <th>Earning Per Share</th>\n",
       "      <th>P/E Ratio</th>\n",
       "      <th>D/E Ratio</th>\n",
       "      <th>Ranking</th>\n",
       "    </tr>\n",
       "  </thead>\n",
       "  <tbody>\n",
       "    <tr>\n",
       "      <th>0</th>\n",
       "      <td>YHOO</td>\n",
       "      <td>33.37</td>\n",
       "      <td>88.0</td>\n",
       "      <td>5.88</td>\n",
       "      <td>588.0</td>\n",
       "      <td>-4.64</td>\n",
       "      <td>-7.19</td>\n",
       "      <td>0.56</td>\n",
       "      <td>71.48</td>\n",
       "    </tr>\n",
       "    <tr>\n",
       "      <th>1</th>\n",
       "      <td>APA</td>\n",
       "      <td>44.81</td>\n",
       "      <td>369.0</td>\n",
       "      <td>2.04</td>\n",
       "      <td>173.0</td>\n",
       "      <td>-61.20</td>\n",
       "      <td>-0.73</td>\n",
       "      <td>6.34</td>\n",
       "      <td>61.78</td>\n",
       "    </tr>\n",
       "    <tr>\n",
       "      <th>2</th>\n",
       "      <td>FTR</td>\n",
       "      <td>4.66</td>\n",
       "      <td>4.0</td>\n",
       "      <td>5.35</td>\n",
       "      <td>535.0</td>\n",
       "      <td>-0.29</td>\n",
       "      <td>-16.07</td>\n",
       "      <td>3.82</td>\n",
       "      <td>55.07</td>\n",
       "    </tr>\n",
       "    <tr>\n",
       "      <th>3</th>\n",
       "      <td>XEC</td>\n",
       "      <td>89.51</td>\n",
       "      <td>166.0</td>\n",
       "      <td>2.63</td>\n",
       "      <td>250.0</td>\n",
       "      <td>-25.92</td>\n",
       "      <td>-3.45</td>\n",
       "      <td>0.87</td>\n",
       "      <td>45.02</td>\n",
       "    </tr>\n",
       "    <tr>\n",
       "      <th>4</th>\n",
       "      <td>AKAM</td>\n",
       "      <td>52.90</td>\n",
       "      <td>15.0</td>\n",
       "      <td>3.77</td>\n",
       "      <td>377.0</td>\n",
       "      <td>1.80</td>\n",
       "      <td>29.39</td>\n",
       "      <td>0.34</td>\n",
       "      <td>40.57</td>\n",
       "    </tr>\n",
       "  </tbody>\n",
       "</table>\n",
       "</div>"
      ],
      "text/plain": [
       "  Ticker Symbol  Stock Price  Profit Margin  Working Capital Ratio  \\\n",
       "0          YHOO        33.37           88.0                   5.88   \n",
       "1           APA        44.81          369.0                   2.04   \n",
       "2           FTR         4.66            4.0                   5.35   \n",
       "3           XEC        89.51          166.0                   2.63   \n",
       "4          AKAM        52.90           15.0                   3.77   \n",
       "\n",
       "   Quick Ratio  Earning Per Share  P/E Ratio  D/E Ratio  Ranking  \n",
       "0        588.0              -4.64      -7.19       0.56    71.48  \n",
       "1        173.0             -61.20      -0.73       6.34    61.78  \n",
       "2        535.0              -0.29     -16.07       3.82    55.07  \n",
       "3        250.0             -25.92      -3.45       0.87    45.02  \n",
       "4        377.0               1.80      29.39       0.34    40.57  "
      ]
     },
     "execution_count": 5,
     "metadata": {},
     "output_type": "execute_result"
    }
   ],
   "source": [
    "top_stocks = pd.read_csv('../data/top_stocks.csv')\n",
    "top_stocks"
   ]
  },
  {
   "cell_type": "markdown",
   "metadata": {},
   "source": [
    "## Stock Distribution\n",
    "- Stock YHOO = 5% \n",
    "- Stock APA = 30 % \n",
    "- Stock FTR =  15 %\n",
    "- Stock XEC = 25%\n",
    "- Stock AKAM = 25%\n",
    "- Pie chart = 100% \n"
   ]
  },
  {
   "cell_type": "code",
   "execution_count": 10,
   "metadata": {},
   "outputs": [],
   "source": [
    "ranking = len(top_stocks['Ranking'])"
   ]
  },
  {
   "cell_type": "code",
   "execution_count": 26,
   "metadata": {},
   "outputs": [
    {
     "data": {
      "image/png": "[encoded data removed]",
      "text/plain": [
       "<Figure size 432x288 with 1 Axes>"
      ]
     },
     "metadata": {},
     "output_type": "display_data"
    }
   ],
   "source": [
    "top_stocks = plt.pie(\n",
    "    x=[5,30,15,25,25], \n",
    "    labels=[\"YHOO\", \"APA\",\"FTR\",\"XEC\",\"AKAM\"],  \n",
    "    explode=[0,0,0,0,0], \n",
    "    colors=[\"lightcoral\", \"royalblue\", \"darkseagreen\",\"slategray\",\"peachpuff\"],\n",
    "    autopct=\"%1.1f%%\",                                       \n",
    "    shadow=True, \n",
    "    startangle=140\n",
    ")\n",
    "plt.title('Stock Distribution')\n",
    "\n",
    "plt.axis(\"equal\")\n",
    "\n",
    "plt.show()"
   ]
  },
  {
   "cell_type": "code",
   "execution_count": 34,
   "metadata": {},
   "outputs": [
    {
     "name": "stdin",
     "output_type": "stream",
     "text": [
      "How muh money do you want to invest today? 1000\n"
     ]
    }
   ],
   "source": [
    "budget = input(\"How muh money do you want to invest today?\")"
   ]
  },
  {
   "cell_type": "code",
   "execution_count": 35,
   "metadata": {},
   "outputs": [
    {
     "name": "stdout",
     "output_type": "stream",
     "text": [
      "You should invest $300.0 in the APA stock\n",
      "You should invest $250.0 in the XEC stock\n",
      "You should invest $250.0 in the AKAM stock\n",
      "You should invest $50.0 in the YHOO stock\n",
      "You should invest $150.0 in the FTR stock\n"
     ]
    }
   ],
   "source": [
    "print(f'You should invest ${int(budget)*0.3} in the APA stock')\n",
    "print(f'You should invest ${int(budget)*0.25} in the XEC stock')\n",
    "print(f'You should invest ${int(budget)*0.25} in the AKAM stock')\n",
    "print(f'You should invest ${int(budget)*0.05} in the YHOO stock')\n",
    "print(f'You should invest ${int(budget)*0.15} in the FTR stock')"
   ]
  },
  {
   "cell_type": "code",
   "execution_count": null,
   "metadata": {},
   "outputs": [],
   "source": []
  }
 ],
 "metadata": {
  "kernelspec": {
   "display_name": "Python 3",
   "language": "python",
   "name": "python3"
  },
  "language_info": {
   "codemirror_mode": {
    "name": "ipython",
    "version": 3
   },
   "file_extension": ".py",
   "mimetype": "text/x-python",
   "name": "python",
   "nbconvert_exporter": "python",
   "pygments_lexer": "ipython3",
   "version": "3.8.5"
  }
 },
 "nbformat": 4,
 "nbformat_minor": 4
}
