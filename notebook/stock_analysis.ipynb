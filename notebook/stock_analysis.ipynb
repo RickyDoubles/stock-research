{
 "cells": [
  {
   "cell_type": "markdown",
   "metadata": {},
   "source": [
    "## Top 5 Stocks Analysis \n",
    "\n",
    "- Stock YHOO\n",
    "- Stock APA\n",
    "- Stock FTR\n",
    "- Stock XEC\n",
    "- Stock AKAM"
   ]
  },
  {
   "cell_type": "code",
   "execution_count": 98,
   "metadata": {},
   "outputs": [],
   "source": [
    "import matplotlib.pyplot as plt\n",
    "import pandas as pd\n",
    "import numpy as np\n",
    "from scipy import stats\n",
    "import pathlib"
   ]
  },
  {
   "cell_type": "code",
   "execution_count": 99,
   "metadata": {},
   "outputs": [
    {
     "data": {
      "text/html": [
       "<div>\n",
       "<style scoped>\n",
       "    .dataframe tbody tr th:only-of-type {\n",
       "        vertical-align: middle;\n",
       "    }\n",
       "\n",
       "    .dataframe tbody tr th {\n",
       "        vertical-align: top;\n",
       "    }\n",
       "\n",
       "    .dataframe thead th {\n",
       "        text-align: right;\n",
       "    }\n",
       "</style>\n",
       "<table border=\"1\" class=\"dataframe\">\n",
       "  <thead>\n",
       "    <tr style=\"text-align: right;\">\n",
       "      <th></th>\n",
       "      <th>Unnamed: 0</th>\n",
       "      <th>Ticker Symbol</th>\n",
       "      <th>Period Ending</th>\n",
       "      <th>Accounts Payable</th>\n",
       "      <th>Accounts Receivable</th>\n",
       "      <th>Add'l income/expense items</th>\n",
       "      <th>After Tax ROE</th>\n",
       "      <th>Capital Expenditures</th>\n",
       "      <th>Capital Surplus</th>\n",
       "      <th>Cash Ratio</th>\n",
       "      <th>...</th>\n",
       "      <th>Total Current Assets</th>\n",
       "      <th>Total Current Liabilities</th>\n",
       "      <th>Total Equity</th>\n",
       "      <th>Total Liabilities</th>\n",
       "      <th>Total Liabilities &amp; Equity</th>\n",
       "      <th>Total Revenue</th>\n",
       "      <th>Treasury Stock</th>\n",
       "      <th>For Year</th>\n",
       "      <th>Earnings Per Share</th>\n",
       "      <th>Estimated Shares Outstanding</th>\n",
       "    </tr>\n",
       "  </thead>\n",
       "  <tbody>\n",
       "    <tr>\n",
       "      <th>0</th>\n",
       "      <td>0</td>\n",
       "      <td>AAL</td>\n",
       "      <td>2012-12-31</td>\n",
       "      <td>3.068000e+09</td>\n",
       "      <td>-222000000.0</td>\n",
       "      <td>-1.961000e+09</td>\n",
       "      <td>23.0</td>\n",
       "      <td>-1.888000e+09</td>\n",
       "      <td>4.695000e+09</td>\n",
       "      <td>53.0</td>\n",
       "      <td>...</td>\n",
       "      <td>7.072000e+09</td>\n",
       "      <td>9.011000e+09</td>\n",
       "      <td>-7.987000e+09</td>\n",
       "      <td>2.489100e+10</td>\n",
       "      <td>1.690400e+10</td>\n",
       "      <td>2.485500e+10</td>\n",
       "      <td>-367000000.0</td>\n",
       "      <td>2012.0</td>\n",
       "      <td>-5.60</td>\n",
       "      <td>3.350000e+08</td>\n",
       "    </tr>\n",
       "    <tr>\n",
       "      <th>1</th>\n",
       "      <td>1</td>\n",
       "      <td>AAL</td>\n",
       "      <td>2013-12-31</td>\n",
       "      <td>4.975000e+09</td>\n",
       "      <td>-93000000.0</td>\n",
       "      <td>-2.723000e+09</td>\n",
       "      <td>67.0</td>\n",
       "      <td>-3.114000e+09</td>\n",
       "      <td>1.059200e+10</td>\n",
       "      <td>75.0</td>\n",
       "      <td>...</td>\n",
       "      <td>1.432300e+10</td>\n",
       "      <td>1.380600e+10</td>\n",
       "      <td>-2.731000e+09</td>\n",
       "      <td>4.500900e+10</td>\n",
       "      <td>4.227800e+10</td>\n",
       "      <td>2.674300e+10</td>\n",
       "      <td>0.0</td>\n",
       "      <td>2013.0</td>\n",
       "      <td>-11.25</td>\n",
       "      <td>1.630222e+08</td>\n",
       "    </tr>\n",
       "    <tr>\n",
       "      <th>2</th>\n",
       "      <td>2</td>\n",
       "      <td>AAL</td>\n",
       "      <td>2014-12-31</td>\n",
       "      <td>4.668000e+09</td>\n",
       "      <td>-160000000.0</td>\n",
       "      <td>-1.500000e+08</td>\n",
       "      <td>143.0</td>\n",
       "      <td>-5.311000e+09</td>\n",
       "      <td>1.513500e+10</td>\n",
       "      <td>60.0</td>\n",
       "      <td>...</td>\n",
       "      <td>1.175000e+10</td>\n",
       "      <td>1.340400e+10</td>\n",
       "      <td>2.021000e+09</td>\n",
       "      <td>4.120400e+10</td>\n",
       "      <td>4.322500e+10</td>\n",
       "      <td>4.265000e+10</td>\n",
       "      <td>0.0</td>\n",
       "      <td>2014.0</td>\n",
       "      <td>4.02</td>\n",
       "      <td>7.169154e+08</td>\n",
       "    </tr>\n",
       "    <tr>\n",
       "      <th>3</th>\n",
       "      <td>3</td>\n",
       "      <td>AAL</td>\n",
       "      <td>2015-12-31</td>\n",
       "      <td>5.102000e+09</td>\n",
       "      <td>352000000.0</td>\n",
       "      <td>-7.080000e+08</td>\n",
       "      <td>135.0</td>\n",
       "      <td>-6.151000e+09</td>\n",
       "      <td>1.159100e+10</td>\n",
       "      <td>51.0</td>\n",
       "      <td>...</td>\n",
       "      <td>9.985000e+09</td>\n",
       "      <td>1.360500e+10</td>\n",
       "      <td>5.635000e+09</td>\n",
       "      <td>4.278000e+10</td>\n",
       "      <td>4.841500e+10</td>\n",
       "      <td>4.099000e+10</td>\n",
       "      <td>0.0</td>\n",
       "      <td>2015.0</td>\n",
       "      <td>11.39</td>\n",
       "      <td>6.681299e+08</td>\n",
       "    </tr>\n",
       "    <tr>\n",
       "      <th>4</th>\n",
       "      <td>4</td>\n",
       "      <td>AAP</td>\n",
       "      <td>2012-12-29</td>\n",
       "      <td>2.409453e+09</td>\n",
       "      <td>-89482000.0</td>\n",
       "      <td>6.000000e+05</td>\n",
       "      <td>32.0</td>\n",
       "      <td>-2.711820e+08</td>\n",
       "      <td>5.202150e+08</td>\n",
       "      <td>23.0</td>\n",
       "      <td>...</td>\n",
       "      <td>3.184200e+09</td>\n",
       "      <td>2.559638e+09</td>\n",
       "      <td>1.210694e+09</td>\n",
       "      <td>3.403120e+09</td>\n",
       "      <td>4.613814e+09</td>\n",
       "      <td>6.205003e+09</td>\n",
       "      <td>-27095000.0</td>\n",
       "      <td>2012.0</td>\n",
       "      <td>5.29</td>\n",
       "      <td>7.328355e+07</td>\n",
       "    </tr>\n",
       "    <tr>\n",
       "      <th>...</th>\n",
       "      <td>...</td>\n",
       "      <td>...</td>\n",
       "      <td>...</td>\n",
       "      <td>...</td>\n",
       "      <td>...</td>\n",
       "      <td>...</td>\n",
       "      <td>...</td>\n",
       "      <td>...</td>\n",
       "      <td>...</td>\n",
       "      <td>...</td>\n",
       "      <td>...</td>\n",
       "      <td>...</td>\n",
       "      <td>...</td>\n",
       "      <td>...</td>\n",
       "      <td>...</td>\n",
       "      <td>...</td>\n",
       "      <td>...</td>\n",
       "      <td>...</td>\n",
       "      <td>...</td>\n",
       "      <td>...</td>\n",
       "      <td>...</td>\n",
       "    </tr>\n",
       "    <tr>\n",
       "      <th>1776</th>\n",
       "      <td>1776</td>\n",
       "      <td>ZION</td>\n",
       "      <td>2015-12-31</td>\n",
       "      <td>0.000000e+00</td>\n",
       "      <td>0.0</td>\n",
       "      <td>-2.530000e+06</td>\n",
       "      <td>4.0</td>\n",
       "      <td>-1.573610e+08</td>\n",
       "      <td>0.000000e+00</td>\n",
       "      <td>NaN</td>\n",
       "      <td>...</td>\n",
       "      <td>0.000000e+00</td>\n",
       "      <td>0.000000e+00</td>\n",
       "      <td>7.507519e+09</td>\n",
       "      <td>5.216201e+10</td>\n",
       "      <td>5.966952e+10</td>\n",
       "      <td>2.210591e+09</td>\n",
       "      <td>0.0</td>\n",
       "      <td>2015.0</td>\n",
       "      <td>1.20</td>\n",
       "      <td>2.578925e+08</td>\n",
       "    </tr>\n",
       "    <tr>\n",
       "      <th>1777</th>\n",
       "      <td>1777</td>\n",
       "      <td>ZTS</td>\n",
       "      <td>2013-12-31</td>\n",
       "      <td>1.381000e+09</td>\n",
       "      <td>-99000000.0</td>\n",
       "      <td>9.000000e+06</td>\n",
       "      <td>54.0</td>\n",
       "      <td>-1.840000e+08</td>\n",
       "      <td>8.780000e+08</td>\n",
       "      <td>43.0</td>\n",
       "      <td>...</td>\n",
       "      <td>3.357000e+09</td>\n",
       "      <td>1.415000e+09</td>\n",
       "      <td>9.400000e+08</td>\n",
       "      <td>5.618000e+09</td>\n",
       "      <td>6.558000e+09</td>\n",
       "      <td>4.561000e+09</td>\n",
       "      <td>0.0</td>\n",
       "      <td>2013.0</td>\n",
       "      <td>1.01</td>\n",
       "      <td>4.990099e+08</td>\n",
       "    </tr>\n",
       "    <tr>\n",
       "      <th>1778</th>\n",
       "      <td>1778</td>\n",
       "      <td>ZTS</td>\n",
       "      <td>2014-12-31</td>\n",
       "      <td>1.071000e+09</td>\n",
       "      <td>69000000.0</td>\n",
       "      <td>-7.000000e+06</td>\n",
       "      <td>44.0</td>\n",
       "      <td>-1.800000e+08</td>\n",
       "      <td>9.580000e+08</td>\n",
       "      <td>81.0</td>\n",
       "      <td>...</td>\n",
       "      <td>3.465000e+09</td>\n",
       "      <td>1.086000e+09</td>\n",
       "      <td>1.311000e+09</td>\n",
       "      <td>5.277000e+09</td>\n",
       "      <td>6.588000e+09</td>\n",
       "      <td>4.785000e+09</td>\n",
       "      <td>0.0</td>\n",
       "      <td>2014.0</td>\n",
       "      <td>1.16</td>\n",
       "      <td>5.025862e+08</td>\n",
       "    </tr>\n",
       "    <tr>\n",
       "      <th>1779</th>\n",
       "      <td>1779</td>\n",
       "      <td>ZTS</td>\n",
       "      <td>2015-12-31</td>\n",
       "      <td>1.313000e+09</td>\n",
       "      <td>-58000000.0</td>\n",
       "      <td>-8.100000e+07</td>\n",
       "      <td>32.0</td>\n",
       "      <td>-2.240000e+08</td>\n",
       "      <td>1.012000e+09</td>\n",
       "      <td>65.0</td>\n",
       "      <td>...</td>\n",
       "      <td>3.830000e+09</td>\n",
       "      <td>1.781000e+09</td>\n",
       "      <td>1.068000e+09</td>\n",
       "      <td>6.845000e+09</td>\n",
       "      <td>7.913000e+09</td>\n",
       "      <td>4.765000e+09</td>\n",
       "      <td>-203000000.0</td>\n",
       "      <td>2015.0</td>\n",
       "      <td>0.68</td>\n",
       "      <td>4.985294e+08</td>\n",
       "    </tr>\n",
       "    <tr>\n",
       "      <th>1780</th>\n",
       "      <td>1780</td>\n",
       "      <td>ZTS</td>\n",
       "      <td>2016-12-31</td>\n",
       "      <td>1.076000e+09</td>\n",
       "      <td>15000000.0</td>\n",
       "      <td>2.000000e+06</td>\n",
       "      <td>55.0</td>\n",
       "      <td>-2.160000e+08</td>\n",
       "      <td>1.024000e+09</td>\n",
       "      <td>65.0</td>\n",
       "      <td>...</td>\n",
       "      <td>3.390000e+09</td>\n",
       "      <td>1.117000e+09</td>\n",
       "      <td>1.487000e+09</td>\n",
       "      <td>6.162000e+09</td>\n",
       "      <td>7.649000e+09</td>\n",
       "      <td>4.888000e+09</td>\n",
       "      <td>-421000000.0</td>\n",
       "      <td>NaN</td>\n",
       "      <td>NaN</td>\n",
       "      <td>NaN</td>\n",
       "    </tr>\n",
       "  </tbody>\n",
       "</table>\n",
       "<p>1781 rows × 79 columns</p>\n",
       "</div>"
      ],
      "text/plain": [
       "      Unnamed: 0 Ticker Symbol Period Ending  Accounts Payable  \\\n",
       "0              0           AAL    2012-12-31      3.068000e+09   \n",
       "1              1           AAL    2013-12-31      4.975000e+09   \n",
       "2              2           AAL    2014-12-31      4.668000e+09   \n",
       "3              3           AAL    2015-12-31      5.102000e+09   \n",
       "4              4           AAP    2012-12-29      2.409453e+09   \n",
       "...          ...           ...           ...               ...   \n",
       "1776        1776          ZION    2015-12-31      0.000000e+00   \n",
       "1777        1777           ZTS    2013-12-31      1.381000e+09   \n",
       "1778        1778           ZTS    2014-12-31      1.071000e+09   \n",
       "1779        1779           ZTS    2015-12-31      1.313000e+09   \n",
       "1780        1780           ZTS    2016-12-31      1.076000e+09   \n",
       "\n",
       "      Accounts Receivable  Add'l income/expense items  After Tax ROE  \\\n",
       "0            -222000000.0               -1.961000e+09           23.0   \n",
       "1             -93000000.0               -2.723000e+09           67.0   \n",
       "2            -160000000.0               -1.500000e+08          143.0   \n",
       "3             352000000.0               -7.080000e+08          135.0   \n",
       "4             -89482000.0                6.000000e+05           32.0   \n",
       "...                   ...                         ...            ...   \n",
       "1776                  0.0               -2.530000e+06            4.0   \n",
       "1777          -99000000.0                9.000000e+06           54.0   \n",
       "1778           69000000.0               -7.000000e+06           44.0   \n",
       "1779          -58000000.0               -8.100000e+07           32.0   \n",
       "1780           15000000.0                2.000000e+06           55.0   \n",
       "\n",
       "      Capital Expenditures  Capital Surplus  Cash Ratio  ...  \\\n",
       "0            -1.888000e+09     4.695000e+09        53.0  ...   \n",
       "1            -3.114000e+09     1.059200e+10        75.0  ...   \n",
       "2            -5.311000e+09     1.513500e+10        60.0  ...   \n",
       "3            -6.151000e+09     1.159100e+10        51.0  ...   \n",
       "4            -2.711820e+08     5.202150e+08        23.0  ...   \n",
       "...                    ...              ...         ...  ...   \n",
       "1776         -1.573610e+08     0.000000e+00         NaN  ...   \n",
       "1777         -1.840000e+08     8.780000e+08        43.0  ...   \n",
       "1778         -1.800000e+08     9.580000e+08        81.0  ...   \n",
       "1779         -2.240000e+08     1.012000e+09        65.0  ...   \n",
       "1780         -2.160000e+08     1.024000e+09        65.0  ...   \n",
       "\n",
       "      Total Current Assets  Total Current Liabilities  Total Equity  \\\n",
       "0             7.072000e+09               9.011000e+09 -7.987000e+09   \n",
       "1             1.432300e+10               1.380600e+10 -2.731000e+09   \n",
       "2             1.175000e+10               1.340400e+10  2.021000e+09   \n",
       "3             9.985000e+09               1.360500e+10  5.635000e+09   \n",
       "4             3.184200e+09               2.559638e+09  1.210694e+09   \n",
       "...                    ...                        ...           ...   \n",
       "1776          0.000000e+00               0.000000e+00  7.507519e+09   \n",
       "1777          3.357000e+09               1.415000e+09  9.400000e+08   \n",
       "1778          3.465000e+09               1.086000e+09  1.311000e+09   \n",
       "1779          3.830000e+09               1.781000e+09  1.068000e+09   \n",
       "1780          3.390000e+09               1.117000e+09  1.487000e+09   \n",
       "\n",
       "      Total Liabilities  Total Liabilities & Equity  Total Revenue  \\\n",
       "0          2.489100e+10                1.690400e+10   2.485500e+10   \n",
       "1          4.500900e+10                4.227800e+10   2.674300e+10   \n",
       "2          4.120400e+10                4.322500e+10   4.265000e+10   \n",
       "3          4.278000e+10                4.841500e+10   4.099000e+10   \n",
       "4          3.403120e+09                4.613814e+09   6.205003e+09   \n",
       "...                 ...                         ...            ...   \n",
       "1776       5.216201e+10                5.966952e+10   2.210591e+09   \n",
       "1777       5.618000e+09                6.558000e+09   4.561000e+09   \n",
       "1778       5.277000e+09                6.588000e+09   4.785000e+09   \n",
       "1779       6.845000e+09                7.913000e+09   4.765000e+09   \n",
       "1780       6.162000e+09                7.649000e+09   4.888000e+09   \n",
       "\n",
       "      Treasury Stock  For Year  Earnings Per Share  \\\n",
       "0       -367000000.0    2012.0               -5.60   \n",
       "1                0.0    2013.0              -11.25   \n",
       "2                0.0    2014.0                4.02   \n",
       "3                0.0    2015.0               11.39   \n",
       "4        -27095000.0    2012.0                5.29   \n",
       "...              ...       ...                 ...   \n",
       "1776             0.0    2015.0                1.20   \n",
       "1777             0.0    2013.0                1.01   \n",
       "1778             0.0    2014.0                1.16   \n",
       "1779    -203000000.0    2015.0                0.68   \n",
       "1780    -421000000.0       NaN                 NaN   \n",
       "\n",
       "      Estimated Shares Outstanding  \n",
       "0                     3.350000e+08  \n",
       "1                     1.630222e+08  \n",
       "2                     7.169154e+08  \n",
       "3                     6.681299e+08  \n",
       "4                     7.328355e+07  \n",
       "...                            ...  \n",
       "1776                  2.578925e+08  \n",
       "1777                  4.990099e+08  \n",
       "1778                  5.025862e+08  \n",
       "1779                  4.985294e+08  \n",
       "1780                           NaN  \n",
       "\n",
       "[1781 rows x 79 columns]"
      ]
     },
     "execution_count": 99,
     "metadata": {},
     "output_type": "execute_result"
    }
   ],
   "source": [
    "# Read csv file - top stocks\n",
    "fundamentals = pd.read_csv('../data/fundamentals.csv') \n",
    "fundamentals"
   ]
  },
  {
   "cell_type": "markdown",
   "metadata": {},
   "source": [
    "## Quick Ratio \n",
    "\n",
    "The higher the ratio result, the better a company's liquidity and financial health; the lower the ratio, the more likely the company will struggle with paying debts."
   ]
  },
  {
   "cell_type": "markdown",
   "metadata": {},
   "source": [
    "## Quick ratio plot for YHOO"
   ]
  },
  {
   "cell_type": "code",
   "execution_count": 100,
   "metadata": {},
   "outputs": [
    {
     "data": {
      "text/html": [
       "<div>\n",
       "<style scoped>\n",
       "    .dataframe tbody tr th:only-of-type {\n",
       "        vertical-align: middle;\n",
       "    }\n",
       "\n",
       "    .dataframe tbody tr th {\n",
       "        vertical-align: top;\n",
       "    }\n",
       "\n",
       "    .dataframe thead th {\n",
       "        text-align: right;\n",
       "    }\n",
       "</style>\n",
       "<table border=\"1\" class=\"dataframe\">\n",
       "  <thead>\n",
       "    <tr style=\"text-align: right;\">\n",
       "      <th></th>\n",
       "      <th>Period Ending</th>\n",
       "      <th>Quick Ratio</th>\n",
       "    </tr>\n",
       "  </thead>\n",
       "  <tbody>\n",
       "    <tr>\n",
       "      <th>1761</th>\n",
       "      <td>2012-12-31</td>\n",
       "      <td>438.0</td>\n",
       "    </tr>\n",
       "    <tr>\n",
       "      <th>1762</th>\n",
       "      <td>2013-12-31</td>\n",
       "      <td>375.0</td>\n",
       "    </tr>\n",
       "    <tr>\n",
       "      <th>1763</th>\n",
       "      <td>2014-12-31</td>\n",
       "      <td>209.0</td>\n",
       "    </tr>\n",
       "    <tr>\n",
       "      <th>1764</th>\n",
       "      <td>2015-12-31</td>\n",
       "      <td>588.0</td>\n",
       "    </tr>\n",
       "  </tbody>\n",
       "</table>\n",
       "</div>"
      ],
      "text/plain": [
       "     Period Ending  Quick Ratio\n",
       "1761    2012-12-31        438.0\n",
       "1762    2013-12-31        375.0\n",
       "1763    2014-12-31        209.0\n",
       "1764    2015-12-31        588.0"
      ]
     },
     "execution_count": 100,
     "metadata": {},
     "output_type": "execute_result"
    }
   ],
   "source": [
    "yahoo_quick_ratio = fundamentals.loc[\n",
    "            fundamentals['Ticker Symbol'] == 'YHOO' , \n",
    "            ['Period Ending','Quick Ratio']\n",
    "]\n",
    "yahoo_quick_ratio"
   ]
  },
  {
   "cell_type": "code",
   "execution_count": 101,
   "metadata": {},
   "outputs": [],
   "source": [
    "x_axis = yahoo_quick_ratio['Period Ending']\n",
    "y_axis = yahoo_quick_ratio['Quick Ratio']"
   ]
  },
  {
   "cell_type": "code",
   "execution_count": 102,
   "metadata": {},
   "outputs": [
    {
     "data": {
      "image/png": "[encoded data removed]",
      "text/plain": [
       "<Figure size 432x288 with 1 Axes>"
      ]
     },
     "metadata": {
      "needs_background": "light"
     },
     "output_type": "display_data"
    }
   ],
   "source": [
    "plt.plot(x_axis,y_axis)\n",
    "plt.title(\"YHOO Quick Ratio 2012-2015\")\n",
    "plt.xlabel('Date')\n",
    "plt.ylabel('Quick Ratio')\n",
    "plt.savefig(\"../visuals/YHOO_quickratio.png\")\n",
    "plt.show()"
   ]
  },
  {
   "cell_type": "markdown",
   "metadata": {},
   "source": [
    "## Quick ratio plot for FTR"
   ]
  },
  {
   "cell_type": "code",
   "execution_count": 118,
   "metadata": {},
   "outputs": [
    {
     "data": {
      "text/html": [
       "<div>\n",
       "<style scoped>\n",
       "    .dataframe tbody tr th:only-of-type {\n",
       "        vertical-align: middle;\n",
       "    }\n",
       "\n",
       "    .dataframe tbody tr th {\n",
       "        vertical-align: top;\n",
       "    }\n",
       "\n",
       "    .dataframe thead th {\n",
       "        text-align: right;\n",
       "    }\n",
       "</style>\n",
       "<table border=\"1\" class=\"dataframe\">\n",
       "  <thead>\n",
       "    <tr style=\"text-align: right;\">\n",
       "      <th></th>\n",
       "      <th>Period Ending</th>\n",
       "      <th>Quick Ratio</th>\n",
       "    </tr>\n",
       "  </thead>\n",
       "  <tbody>\n",
       "    <tr>\n",
       "      <th>676</th>\n",
       "      <td>2012-12-31</td>\n",
       "      <td>134.0</td>\n",
       "    </tr>\n",
       "    <tr>\n",
       "      <th>677</th>\n",
       "      <td>2013-12-31</td>\n",
       "      <td>124.0</td>\n",
       "    </tr>\n",
       "    <tr>\n",
       "      <th>678</th>\n",
       "      <td>2014-12-31</td>\n",
       "      <td>94.0</td>\n",
       "    </tr>\n",
       "    <tr>\n",
       "      <th>679</th>\n",
       "      <td>2015-12-31</td>\n",
       "      <td>535.0</td>\n",
       "    </tr>\n",
       "  </tbody>\n",
       "</table>\n",
       "</div>"
      ],
      "text/plain": [
       "    Period Ending  Quick Ratio\n",
       "676    2012-12-31        134.0\n",
       "677    2013-12-31        124.0\n",
       "678    2014-12-31         94.0\n",
       "679    2015-12-31        535.0"
      ]
     },
     "execution_count": 118,
     "metadata": {},
     "output_type": "execute_result"
    }
   ],
   "source": [
    "ftr_quick_ratio = fundamentals.loc[\n",
    "            fundamentals['Ticker Symbol'] == 'FTR' , \n",
    "            ['Period Ending','Quick Ratio']\n",
    "]\n",
    "ftr_quick_ratio"
   ]
  },
  {
   "cell_type": "code",
   "execution_count": 119,
   "metadata": {},
   "outputs": [],
   "source": [
    "x_axis = ftr_quick_ratio['Period Ending']\n",
    "y_axis = ftr_quick_ratio['Quick Ratio']"
   ]
  },
  {
   "cell_type": "code",
   "execution_count": 121,
   "metadata": {},
   "outputs": [
    {
     "data": {
      "image/png": "[encoded data removed]",
      "text/plain": [
       "<Figure size 432x288 with 1 Axes>"
      ]
     },
     "metadata": {
      "needs_background": "light"
     },
     "output_type": "display_data"
    }
   ],
   "source": [
    "plt.plot(x_axis,y_axis)\n",
    "plt.title(\"FTR Quick Ratio 2012-2015\")\n",
    "plt.xlabel('Date')\n",
    "plt.ylabel('Quick Ratio')\n",
    "plt.savefig(\"../visuals/AKAM_quickratio.png\")\n",
    "plt.show()\n",
    "\n",
    "## Quick ratio plot for FTR"
   ]
  },
  {
   "cell_type": "markdown",
   "metadata": {},
   "source": [
    "## Quick ratio plot for AKAM"
   ]
  },
  {
   "cell_type": "code",
   "execution_count": 122,
   "metadata": {},
   "outputs": [
    {
     "data": {
      "text/html": [
       "<div>\n",
       "<style scoped>\n",
       "    .dataframe tbody tr th:only-of-type {\n",
       "        vertical-align: middle;\n",
       "    }\n",
       "\n",
       "    .dataframe tbody tr th {\n",
       "        vertical-align: top;\n",
       "    }\n",
       "\n",
       "    .dataframe thead th {\n",
       "        text-align: right;\n",
       "    }\n",
       "</style>\n",
       "<table border=\"1\" class=\"dataframe\">\n",
       "  <thead>\n",
       "    <tr style=\"text-align: right;\">\n",
       "      <th></th>\n",
       "      <th>Period Ending</th>\n",
       "      <th>Quick Ratio</th>\n",
       "    </tr>\n",
       "  </thead>\n",
       "  <tbody>\n",
       "    <tr>\n",
       "      <th>72</th>\n",
       "      <td>2012-12-31</td>\n",
       "      <td>359.0</td>\n",
       "    </tr>\n",
       "    <tr>\n",
       "      <th>73</th>\n",
       "      <td>2013-12-31</td>\n",
       "      <td>391.0</td>\n",
       "    </tr>\n",
       "    <tr>\n",
       "      <th>74</th>\n",
       "      <td>2014-12-31</td>\n",
       "      <td>378.0</td>\n",
       "    </tr>\n",
       "    <tr>\n",
       "      <th>75</th>\n",
       "      <td>2015-12-31</td>\n",
       "      <td>377.0</td>\n",
       "    </tr>\n",
       "  </tbody>\n",
       "</table>\n",
       "</div>"
      ],
      "text/plain": [
       "   Period Ending  Quick Ratio\n",
       "72    2012-12-31        359.0\n",
       "73    2013-12-31        391.0\n",
       "74    2014-12-31        378.0\n",
       "75    2015-12-31        377.0"
      ]
     },
     "execution_count": 122,
     "metadata": {},
     "output_type": "execute_result"
    }
   ],
   "source": [
    "akam_quick_ratio = fundamentals.loc[\n",
    "            fundamentals['Ticker Symbol'] == 'AKAM' , \n",
    "            ['Period Ending','Quick Ratio']\n",
    "]\n",
    "akam_quick_ratio"
   ]
  },
  {
   "cell_type": "code",
   "execution_count": 123,
   "metadata": {},
   "outputs": [],
   "source": [
    "x_axis = akam_quick_ratio['Period Ending']\n",
    "y_axis = akam_quick_ratio['Quick Ratio']"
   ]
  },
  {
   "cell_type": "code",
   "execution_count": 153,
   "metadata": {},
   "outputs": [
    {
     "data": {
      "image/png": "[encoded data removed]",
      "text/plain": [
       "<Figure size 432x288 with 1 Axes>"
      ]
     },
     "metadata": {
      "needs_background": "light"
     },
     "output_type": "display_data"
    }
   ],
   "source": [
    "plt.plot(x_axis,y_axis)\n",
    "plt.title(\"AKAM Quick Ratio 2012-2015\")\n",
    "plt.xlabel('Date')\n",
    "plt.ylabel('Quick Ratio')\n",
    "plt.savefig(\"../visuals/AKAM_quickratio.png\")\n",
    "plt.show()"
   ]
  },
  {
   "cell_type": "markdown",
   "metadata": {},
   "source": [
    "## Quick ratio plot for EW"
   ]
  },
  {
   "cell_type": "code",
   "execution_count": 128,
   "metadata": {},
   "outputs": [
    {
     "data": {
      "text/html": [
       "<div>\n",
       "<style scoped>\n",
       "    .dataframe tbody tr th:only-of-type {\n",
       "        vertical-align: middle;\n",
       "    }\n",
       "\n",
       "    .dataframe tbody tr th {\n",
       "        vertical-align: top;\n",
       "    }\n",
       "\n",
       "    .dataframe thead th {\n",
       "        text-align: right;\n",
       "    }\n",
       "</style>\n",
       "<table border=\"1\" class=\"dataframe\">\n",
       "  <thead>\n",
       "    <tr style=\"text-align: right;\">\n",
       "      <th></th>\n",
       "      <th>Period Ending</th>\n",
       "      <th>Quick Ratio</th>\n",
       "    </tr>\n",
       "  </thead>\n",
       "  <tbody>\n",
       "    <tr>\n",
       "      <th>588</th>\n",
       "      <td>2012-12-31</td>\n",
       "      <td>291.0</td>\n",
       "    </tr>\n",
       "    <tr>\n",
       "      <th>589</th>\n",
       "      <td>2013-12-31</td>\n",
       "      <td>410.0</td>\n",
       "    </tr>\n",
       "    <tr>\n",
       "      <th>590</th>\n",
       "      <td>2014-12-31</td>\n",
       "      <td>454.0</td>\n",
       "    </tr>\n",
       "    <tr>\n",
       "      <th>591</th>\n",
       "      <td>2015-12-31</td>\n",
       "      <td>359.0</td>\n",
       "    </tr>\n",
       "  </tbody>\n",
       "</table>\n",
       "</div>"
      ],
      "text/plain": [
       "    Period Ending  Quick Ratio\n",
       "588    2012-12-31        291.0\n",
       "589    2013-12-31        410.0\n",
       "590    2014-12-31        454.0\n",
       "591    2015-12-31        359.0"
      ]
     },
     "execution_count": 128,
     "metadata": {},
     "output_type": "execute_result"
    }
   ],
   "source": [
    "ew_quick_ratio = fundamentals.loc[\n",
    "            fundamentals['Ticker Symbol'] == 'EW' , \n",
    "            ['Period Ending','Quick Ratio']\n",
    "]\n",
    "ew_quick_ratio"
   ]
  },
  {
   "cell_type": "code",
   "execution_count": 129,
   "metadata": {},
   "outputs": [],
   "source": [
    "x_axis = ew_quick_ratio['Period Ending']\n",
    "y_axis = ew_quick_ratio['Quick Ratio']"
   ]
  },
  {
   "cell_type": "code",
   "execution_count": 152,
   "metadata": {},
   "outputs": [
    {
     "data": {
      "image/png": "[encoded data removed]",
      "text/plain": [
       "<Figure size 432x288 with 1 Axes>"
      ]
     },
     "metadata": {
      "needs_background": "light"
     },
     "output_type": "display_data"
    }
   ],
   "source": [
    "plt.plot(x_axis,y_axis)\n",
    "plt.title(\"EW Quick Ratio 2012-2015\")\n",
    "plt.xlabel('Date')\n",
    "plt.ylabel('Quick Ratio')\n",
    "plt.savefig(\"../visuals/EW_quickratio.png\")\n",
    "plt.show()"
   ]
  },
  {
   "cell_type": "markdown",
   "metadata": {},
   "source": [
    "## Quick ratio plot for EBAY"
   ]
  },
  {
   "cell_type": "code",
   "execution_count": 131,
   "metadata": {},
   "outputs": [
    {
     "data": {
      "text/html": [
       "<div>\n",
       "<style scoped>\n",
       "    .dataframe tbody tr th:only-of-type {\n",
       "        vertical-align: middle;\n",
       "    }\n",
       "\n",
       "    .dataframe tbody tr th {\n",
       "        vertical-align: top;\n",
       "    }\n",
       "\n",
       "    .dataframe thead th {\n",
       "        text-align: right;\n",
       "    }\n",
       "</style>\n",
       "<table border=\"1\" class=\"dataframe\">\n",
       "  <thead>\n",
       "    <tr style=\"text-align: right;\">\n",
       "      <th></th>\n",
       "      <th>Period Ending</th>\n",
       "      <th>Quick Ratio</th>\n",
       "    </tr>\n",
       "  </thead>\n",
       "  <tbody>\n",
       "    <tr>\n",
       "      <th>520</th>\n",
       "      <td>2013-12-31</td>\n",
       "      <td>184.0</td>\n",
       "    </tr>\n",
       "    <tr>\n",
       "      <th>521</th>\n",
       "      <td>2014-12-31</td>\n",
       "      <td>151.0</td>\n",
       "    </tr>\n",
       "    <tr>\n",
       "      <th>522</th>\n",
       "      <td>2015-12-31</td>\n",
       "      <td>349.0</td>\n",
       "    </tr>\n",
       "    <tr>\n",
       "      <th>523</th>\n",
       "      <td>2016-12-31</td>\n",
       "      <td>231.0</td>\n",
       "    </tr>\n",
       "  </tbody>\n",
       "</table>\n",
       "</div>"
      ],
      "text/plain": [
       "    Period Ending  Quick Ratio\n",
       "520    2013-12-31        184.0\n",
       "521    2014-12-31        151.0\n",
       "522    2015-12-31        349.0\n",
       "523    2016-12-31        231.0"
      ]
     },
     "execution_count": 131,
     "metadata": {},
     "output_type": "execute_result"
    }
   ],
   "source": [
    "ebay_quick_ratio = fundamentals.loc[\n",
    "            fundamentals['Ticker Symbol'] == 'EBAY' , \n",
    "            ['Period Ending','Quick Ratio']\n",
    "]\n",
    "ebay_quick_ratio"
   ]
  },
  {
   "cell_type": "code",
   "execution_count": 132,
   "metadata": {},
   "outputs": [],
   "source": [
    "x_axis = ebay_quick_ratio['Period Ending']\n",
    "y_axis = ebay_quick_ratio['Quick Ratio']"
   ]
  },
  {
   "cell_type": "code",
   "execution_count": 151,
   "metadata": {},
   "outputs": [
    {
     "data": {
      "image/png": "[encoded data removed]",
      "text/plain": [
       "<Figure size 432x288 with 1 Axes>"
      ]
     },
     "metadata": {
      "needs_background": "light"
     },
     "output_type": "display_data"
    }
   ],
   "source": [
    "plt.plot(x_axis,y_axis)\n",
    "plt.title(\"EBAY Quick Ratio 2012-2015\")\n",
    "plt.xlabel('Date')\n",
    "plt.ylabel('Quick Ratio')\n",
    "plt.savefig(\"../visuals/EBAY_quickratio.png\")\n",
    "plt.show()"
   ]
  },
  {
   "cell_type": "markdown",
   "metadata": {},
   "source": [
    "## EPS\n",
    "The higher the earnings per share of a company, the better is its profitability"
   ]
  },
  {
   "cell_type": "markdown",
   "metadata": {},
   "source": [
    "## EPS plot for YHOO"
   ]
  },
  {
   "cell_type": "code",
   "execution_count": 115,
   "metadata": {},
   "outputs": [
    {
     "data": {
      "text/html": [
       "<div>\n",
       "<style scoped>\n",
       "    .dataframe tbody tr th:only-of-type {\n",
       "        vertical-align: middle;\n",
       "    }\n",
       "\n",
       "    .dataframe tbody tr th {\n",
       "        vertical-align: top;\n",
       "    }\n",
       "\n",
       "    .dataframe thead th {\n",
       "        text-align: right;\n",
       "    }\n",
       "</style>\n",
       "<table border=\"1\" class=\"dataframe\">\n",
       "  <thead>\n",
       "    <tr style=\"text-align: right;\">\n",
       "      <th></th>\n",
       "      <th>Period Ending</th>\n",
       "      <th>Earnings Per Share</th>\n",
       "    </tr>\n",
       "  </thead>\n",
       "  <tbody>\n",
       "    <tr>\n",
       "      <th>1761</th>\n",
       "      <td>2012-12-31</td>\n",
       "      <td>3.31</td>\n",
       "    </tr>\n",
       "    <tr>\n",
       "      <th>1762</th>\n",
       "      <td>2013-12-31</td>\n",
       "      <td>1.30</td>\n",
       "    </tr>\n",
       "    <tr>\n",
       "      <th>1763</th>\n",
       "      <td>2014-12-31</td>\n",
       "      <td>7.61</td>\n",
       "    </tr>\n",
       "    <tr>\n",
       "      <th>1764</th>\n",
       "      <td>2015-12-31</td>\n",
       "      <td>-4.64</td>\n",
       "    </tr>\n",
       "  </tbody>\n",
       "</table>\n",
       "</div>"
      ],
      "text/plain": [
       "     Period Ending  Earnings Per Share\n",
       "1761    2012-12-31                3.31\n",
       "1762    2013-12-31                1.30\n",
       "1763    2014-12-31                7.61\n",
       "1764    2015-12-31               -4.64"
      ]
     },
     "execution_count": 115,
     "metadata": {},
     "output_type": "execute_result"
    }
   ],
   "source": [
    "yahoo_eps = fundamentals.loc[\n",
    "            fundamentals['Ticker Symbol'] == 'YHOO' , \n",
    "            ['Period Ending','Earnings Per Share']\n",
    "]\n",
    "yahoo_eps"
   ]
  },
  {
   "cell_type": "code",
   "execution_count": 116,
   "metadata": {},
   "outputs": [],
   "source": [
    "x_axis = yahoo_eps['Period Ending']\n",
    "y_axis = yahoo_eps['Earnings Per Share']"
   ]
  },
  {
   "cell_type": "code",
   "execution_count": 117,
   "metadata": {},
   "outputs": [
    {
     "data": {
      "image/png": "[encoded data removed]",
      "text/plain": [
       "<Figure size 432x288 with 1 Axes>"
      ]
     },
     "metadata": {
      "needs_background": "light"
     },
     "output_type": "display_data"
    }
   ],
   "source": [
    "plt.plot(x_axis,y_axis)\n",
    "plt.title(\"YHOO EPS 2012-2015\")\n",
    "plt.xlabel('Date')\n",
    "plt.ylabel('Ernings')\n",
    "plt.savefig(\"../visuals/YHOO_eps.png\")\n",
    "plt.show()"
   ]
  },
  {
   "cell_type": "markdown",
   "metadata": {},
   "source": [
    "## EPS plot for FTR"
   ]
  },
  {
   "cell_type": "code",
   "execution_count": 27,
   "metadata": {},
   "outputs": [
    {
     "data": {
      "text/html": [
       "<div>\n",
       "<style scoped>\n",
       "    .dataframe tbody tr th:only-of-type {\n",
       "        vertical-align: middle;\n",
       "    }\n",
       "\n",
       "    .dataframe tbody tr th {\n",
       "        vertical-align: top;\n",
       "    }\n",
       "\n",
       "    .dataframe thead th {\n",
       "        text-align: right;\n",
       "    }\n",
       "</style>\n",
       "<table border=\"1\" class=\"dataframe\">\n",
       "  <thead>\n",
       "    <tr style=\"text-align: right;\">\n",
       "      <th></th>\n",
       "      <th>Period Ending</th>\n",
       "      <th>Earnings Per Share</th>\n",
       "    </tr>\n",
       "  </thead>\n",
       "  <tbody>\n",
       "    <tr>\n",
       "      <th>676</th>\n",
       "      <td>2012-12-31</td>\n",
       "      <td>0.14</td>\n",
       "    </tr>\n",
       "    <tr>\n",
       "      <th>677</th>\n",
       "      <td>2013-12-31</td>\n",
       "      <td>0.11</td>\n",
       "    </tr>\n",
       "    <tr>\n",
       "      <th>678</th>\n",
       "      <td>2014-12-31</td>\n",
       "      <td>0.13</td>\n",
       "    </tr>\n",
       "    <tr>\n",
       "      <th>679</th>\n",
       "      <td>2015-12-31</td>\n",
       "      <td>-0.29</td>\n",
       "    </tr>\n",
       "  </tbody>\n",
       "</table>\n",
       "</div>"
      ],
      "text/plain": [
       "    Period Ending  Earnings Per Share\n",
       "676    2012-12-31                0.14\n",
       "677    2013-12-31                0.11\n",
       "678    2014-12-31                0.13\n",
       "679    2015-12-31               -0.29"
      ]
     },
     "execution_count": 27,
     "metadata": {},
     "output_type": "execute_result"
    }
   ],
   "source": [
    "ftr_eps = fundamentals.loc[\n",
    "            fundamentals['Ticker Symbol'] == 'FTR' , \n",
    "            ['Period Ending','Earnings Per Share']\n",
    "]\n",
    "ftr_eps"
   ]
  },
  {
   "cell_type": "code",
   "execution_count": 28,
   "metadata": {},
   "outputs": [],
   "source": [
    "x_axis = ftr_eps['Period Ending']\n",
    "y_axis = ftr_eps['Earnings Per Share']"
   ]
  },
  {
   "cell_type": "code",
   "execution_count": 29,
   "metadata": {},
   "outputs": [
    {
     "data": {
      "image/png": "[encoded data removed]",
      "text/plain": [
       "<Figure size 432x288 with 1 Axes>"
      ]
     },
     "metadata": {
      "needs_background": "light"
     },
     "output_type": "display_data"
    }
   ],
   "source": [
    "plt.plot(x_axis,y_axis)\n",
    "plt.title(\"FTR EPS 2012-2015\")\n",
    "plt.xlabel('Date')\n",
    "plt.ylabel('Ernings')\n",
    "plt.savefig(\"../visuals/FTR_eps.png\")\n",
    "plt.show()"
   ]
  },
  {
   "cell_type": "markdown",
   "metadata": {},
   "source": [
    "## EPS plot for AKAM"
   ]
  },
  {
   "cell_type": "code",
   "execution_count": 33,
   "metadata": {},
   "outputs": [
    {
     "data": {
      "text/html": [
       "<div>\n",
       "<style scoped>\n",
       "    .dataframe tbody tr th:only-of-type {\n",
       "        vertical-align: middle;\n",
       "    }\n",
       "\n",
       "    .dataframe tbody tr th {\n",
       "        vertical-align: top;\n",
       "    }\n",
       "\n",
       "    .dataframe thead th {\n",
       "        text-align: right;\n",
       "    }\n",
       "</style>\n",
       "<table border=\"1\" class=\"dataframe\">\n",
       "  <thead>\n",
       "    <tr style=\"text-align: right;\">\n",
       "      <th></th>\n",
       "      <th>Period Ending</th>\n",
       "      <th>Earnings Per Share</th>\n",
       "    </tr>\n",
       "  </thead>\n",
       "  <tbody>\n",
       "    <tr>\n",
       "      <th>72</th>\n",
       "      <td>2012-12-31</td>\n",
       "      <td>1.15</td>\n",
       "    </tr>\n",
       "    <tr>\n",
       "      <th>73</th>\n",
       "      <td>2013-12-31</td>\n",
       "      <td>1.65</td>\n",
       "    </tr>\n",
       "    <tr>\n",
       "      <th>74</th>\n",
       "      <td>2014-12-31</td>\n",
       "      <td>1.87</td>\n",
       "    </tr>\n",
       "    <tr>\n",
       "      <th>75</th>\n",
       "      <td>2015-12-31</td>\n",
       "      <td>1.80</td>\n",
       "    </tr>\n",
       "  </tbody>\n",
       "</table>\n",
       "</div>"
      ],
      "text/plain": [
       "   Period Ending  Earnings Per Share\n",
       "72    2012-12-31                1.15\n",
       "73    2013-12-31                1.65\n",
       "74    2014-12-31                1.87\n",
       "75    2015-12-31                1.80"
      ]
     },
     "execution_count": 33,
     "metadata": {},
     "output_type": "execute_result"
    }
   ],
   "source": [
    "akam_eps = fundamentals.loc[\n",
    "            fundamentals['Ticker Symbol'] == 'AKAM' , \n",
    "            ['Period Ending','Earnings Per Share']\n",
    "]\n",
    "akam_eps"
   ]
  },
  {
   "cell_type": "code",
   "execution_count": 34,
   "metadata": {},
   "outputs": [],
   "source": [
    "x_axis = akam_eps['Period Ending']\n",
    "y_axis = akam_eps['Earnings Per Share']"
   ]
  },
  {
   "cell_type": "code",
   "execution_count": 35,
   "metadata": {},
   "outputs": [
    {
     "data": {
      "image/png": "[encoded data removed]",
      "text/plain": [
       "<Figure size 432x288 with 1 Axes>"
      ]
     },
     "metadata": {
      "needs_background": "light"
     },
     "output_type": "display_data"
    }
   ],
   "source": [
    "plt.plot(x_axis,y_axis)\n",
    "plt.title(\"AKAM EPS 2012-2015\")\n",
    "plt.xlabel('Date')\n",
    "plt.ylabel('Ernings')\n",
    "plt.savefig(\"../visuals/AKAM_eps.png\")\n",
    "plt.show()"
   ]
  },
  {
   "cell_type": "markdown",
   "metadata": {},
   "source": [
    "## EPS plot for EW"
   ]
  },
  {
   "cell_type": "code",
   "execution_count": 134,
   "metadata": {},
   "outputs": [
    {
     "data": {
      "text/html": [
       "<div>\n",
       "<style scoped>\n",
       "    .dataframe tbody tr th:only-of-type {\n",
       "        vertical-align: middle;\n",
       "    }\n",
       "\n",
       "    .dataframe tbody tr th {\n",
       "        vertical-align: top;\n",
       "    }\n",
       "\n",
       "    .dataframe thead th {\n",
       "        text-align: right;\n",
       "    }\n",
       "</style>\n",
       "<table border=\"1\" class=\"dataframe\">\n",
       "  <thead>\n",
       "    <tr style=\"text-align: right;\">\n",
       "      <th></th>\n",
       "      <th>Period Ending</th>\n",
       "      <th>Earnings Per Share</th>\n",
       "    </tr>\n",
       "  </thead>\n",
       "  <tbody>\n",
       "    <tr>\n",
       "      <th>588</th>\n",
       "      <td>2012-12-31</td>\n",
       "      <td>2.55</td>\n",
       "    </tr>\n",
       "    <tr>\n",
       "      <th>589</th>\n",
       "      <td>2013-12-31</td>\n",
       "      <td>3.51</td>\n",
       "    </tr>\n",
       "    <tr>\n",
       "      <th>590</th>\n",
       "      <td>2014-12-31</td>\n",
       "      <td>7.62</td>\n",
       "    </tr>\n",
       "    <tr>\n",
       "      <th>591</th>\n",
       "      <td>2015-12-31</td>\n",
       "      <td>2.30</td>\n",
       "    </tr>\n",
       "  </tbody>\n",
       "</table>\n",
       "</div>"
      ],
      "text/plain": [
       "    Period Ending  Earnings Per Share\n",
       "588    2012-12-31                2.55\n",
       "589    2013-12-31                3.51\n",
       "590    2014-12-31                7.62\n",
       "591    2015-12-31                2.30"
      ]
     },
     "execution_count": 134,
     "metadata": {},
     "output_type": "execute_result"
    }
   ],
   "source": [
    "ew_eps = fundamentals.loc[\n",
    "            fundamentals['Ticker Symbol'] == 'EW' , \n",
    "            ['Period Ending','Earnings Per Share']\n",
    "]\n",
    "ew_eps"
   ]
  },
  {
   "cell_type": "code",
   "execution_count": 135,
   "metadata": {},
   "outputs": [],
   "source": [
    "x_axis = ew_eps['Period Ending']\n",
    "y_axis = ew_eps['Earnings Per Share']"
   ]
  },
  {
   "cell_type": "code",
   "execution_count": 150,
   "metadata": {},
   "outputs": [
    {
     "data": {
      "image/png": "[encoded data removed]",
      "text/plain": [
       "<Figure size 432x288 with 1 Axes>"
      ]
     },
     "metadata": {
      "needs_background": "light"
     },
     "output_type": "display_data"
    }
   ],
   "source": [
    "plt.plot(x_axis,y_axis)\n",
    "plt.title(\"EW EPS 2012-2015\")\n",
    "plt.xlabel('Date')\n",
    "plt.ylabel('Ernings')\n",
    "plt.savefig(\"../visuals/EW_eps.png\")\n",
    "plt.show()"
   ]
  },
  {
   "cell_type": "markdown",
   "metadata": {},
   "source": [
    "## EPS plot for EBAY"
   ]
  },
  {
   "cell_type": "code",
   "execution_count": 141,
   "metadata": {},
   "outputs": [
    {
     "data": {
      "text/html": [
       "<div>\n",
       "<style scoped>\n",
       "    .dataframe tbody tr th:only-of-type {\n",
       "        vertical-align: middle;\n",
       "    }\n",
       "\n",
       "    .dataframe tbody tr th {\n",
       "        vertical-align: top;\n",
       "    }\n",
       "\n",
       "    .dataframe thead th {\n",
       "        text-align: right;\n",
       "    }\n",
       "</style>\n",
       "<table border=\"1\" class=\"dataframe\">\n",
       "  <thead>\n",
       "    <tr style=\"text-align: right;\">\n",
       "      <th></th>\n",
       "      <th>Period Ending</th>\n",
       "      <th>Earnings Per Share</th>\n",
       "    </tr>\n",
       "  </thead>\n",
       "  <tbody>\n",
       "    <tr>\n",
       "      <th>520</th>\n",
       "      <td>2013-12-31</td>\n",
       "      <td>2.20</td>\n",
       "    </tr>\n",
       "    <tr>\n",
       "      <th>521</th>\n",
       "      <td>2014-12-31</td>\n",
       "      <td>0.04</td>\n",
       "    </tr>\n",
       "    <tr>\n",
       "      <th>522</th>\n",
       "      <td>2015-12-31</td>\n",
       "      <td>1.43</td>\n",
       "    </tr>\n",
       "    <tr>\n",
       "      <th>523</th>\n",
       "      <td>2016-12-31</td>\n",
       "      <td>NaN</td>\n",
       "    </tr>\n",
       "  </tbody>\n",
       "</table>\n",
       "</div>"
      ],
      "text/plain": [
       "    Period Ending  Earnings Per Share\n",
       "520    2013-12-31                2.20\n",
       "521    2014-12-31                0.04\n",
       "522    2015-12-31                1.43\n",
       "523    2016-12-31                 NaN"
      ]
     },
     "execution_count": 141,
     "metadata": {},
     "output_type": "execute_result"
    }
   ],
   "source": [
    "ebay_eps = fundamentals.loc[\n",
    "            fundamentals['Ticker Symbol'] == 'EBAY' , \n",
    "            ['Period Ending','Earnings Per Share']\n",
    "]\n",
    "ebay_eps"
   ]
  },
  {
   "cell_type": "code",
   "execution_count": 142,
   "metadata": {},
   "outputs": [],
   "source": [
    "x_axis = ebay_eps['Period Ending']\n",
    "y_axis = ebay_eps['Earnings Per Share']"
   ]
  },
  {
   "cell_type": "code",
   "execution_count": 149,
   "metadata": {},
   "outputs": [
    {
     "data": {
      "image/png": "[encoded data removed]",
      "text/plain": [
       "<Figure size 432x288 with 1 Axes>"
      ]
     },
     "metadata": {
      "needs_background": "light"
     },
     "output_type": "display_data"
    }
   ],
   "source": [
    "plt.plot(x_axis,y_axis)\n",
    "plt.title(\"EBAY EPS 2012-2015\")\n",
    "plt.xlabel('Date')\n",
    "plt.ylabel('Ernings')\n",
    "plt.savefig(\"../visuals/EBAY_eps.png\")\n",
    "plt.show()"
   ]
  },
  {
   "cell_type": "markdown",
   "metadata": {},
   "source": [
    "# Correlation between stocks - ROI\n",
    "\n",
    "A correlation coefficient of 1 indicates a perfect positive correlation between the prices of two stocks, meaning the stocks always move the same direction by the same amount. A coefficient of -1 indicates a perfect negative correlation, meaning that the stocks have historically always moved in the opposite direction.\n",
    "\n",
    "Correlation is used in modern portfolio theory to include diversified assets that can help reduce the overall risk of a portfolio. One of the main criticisms of MPT, however, is that it assumes the correlation between assets is static over time. In reality, correlations often shift, especially during periods of higher volatility. In short, while correlation has some predictive value, the measure has limitations in its use. (Investopedia)"
   ]
  },
  {
   "cell_type": "code",
   "execution_count": 144,
   "metadata": {},
   "outputs": [
    {
     "data": {
      "text/html": [
       "<div>\n",
       "<style scoped>\n",
       "    .dataframe tbody tr th:only-of-type {\n",
       "        vertical-align: middle;\n",
       "    }\n",
       "\n",
       "    .dataframe tbody tr th {\n",
       "        vertical-align: top;\n",
       "    }\n",
       "\n",
       "    .dataframe thead th {\n",
       "        text-align: right;\n",
       "    }\n",
       "</style>\n",
       "<table border=\"1\" class=\"dataframe\">\n",
       "  <thead>\n",
       "    <tr style=\"text-align: right;\">\n",
       "      <th></th>\n",
       "      <th>ROI %</th>\n",
       "    </tr>\n",
       "    <tr>\n",
       "      <th>Ticker Symbol</th>\n",
       "      <th></th>\n",
       "    </tr>\n",
       "  </thead>\n",
       "  <tbody>\n",
       "    <tr>\n",
       "      <th>YHOO</th>\n",
       "      <td>57.57</td>\n",
       "    </tr>\n",
       "    <tr>\n",
       "      <th>FTR</th>\n",
       "      <td>-94.42</td>\n",
       "    </tr>\n",
       "    <tr>\n",
       "      <th>AKAM</th>\n",
       "      <td>91.80</td>\n",
       "    </tr>\n",
       "    <tr>\n",
       "      <th>EW</th>\n",
       "      <td>11.19</td>\n",
       "    </tr>\n",
       "    <tr>\n",
       "      <th>EBAY</th>\n",
       "      <td>124.54</td>\n",
       "    </tr>\n",
       "    <tr>\n",
       "      <th>...</th>\n",
       "      <td>...</td>\n",
       "    </tr>\n",
       "    <tr>\n",
       "      <th>UNM</th>\n",
       "      <td>NaN</td>\n",
       "    </tr>\n",
       "    <tr>\n",
       "      <th>VTR</th>\n",
       "      <td>NaN</td>\n",
       "    </tr>\n",
       "    <tr>\n",
       "      <th>WFC</th>\n",
       "      <td>NaN</td>\n",
       "    </tr>\n",
       "    <tr>\n",
       "      <th>XL</th>\n",
       "      <td>NaN</td>\n",
       "    </tr>\n",
       "    <tr>\n",
       "      <th>ZION</th>\n",
       "      <td>NaN</td>\n",
       "    </tr>\n",
       "  </tbody>\n",
       "</table>\n",
       "<p>248 rows × 1 columns</p>\n",
       "</div>"
      ],
      "text/plain": [
       "                ROI %\n",
       "Ticker Symbol        \n",
       "YHOO            57.57\n",
       "FTR            -94.42\n",
       "AKAM            91.80\n",
       "EW              11.19\n",
       "EBAY           124.54\n",
       "...               ...\n",
       "UNM               NaN\n",
       "VTR               NaN\n",
       "WFC               NaN\n",
       "XL                NaN\n",
       "ZION              NaN\n",
       "\n",
       "[248 rows x 1 columns]"
      ]
     },
     "execution_count": 144,
     "metadata": {},
     "output_type": "execute_result"
    }
   ],
   "source": [
    "top_stocks_final_roi = pd.read_csv('../data/top_stocks_final_roi.csv')\n",
    "roi = top_stocks_final_roi.set_index('Ticker Symbol').loc[\n",
    "    :,\n",
    "    'ROI %'\n",
    "]\n",
    "roi_df = pd.DataFrame(roi)\n",
    "roi_df"
   ]
  },
  {
   "cell_type": "code",
   "execution_count": 145,
   "metadata": {},
   "outputs": [
    {
     "data": {
      "text/html": [
       "<div>\n",
       "<style scoped>\n",
       "    .dataframe tbody tr th:only-of-type {\n",
       "        vertical-align: middle;\n",
       "    }\n",
       "\n",
       "    .dataframe tbody tr th {\n",
       "        vertical-align: top;\n",
       "    }\n",
       "\n",
       "    .dataframe thead th {\n",
       "        text-align: right;\n",
       "    }\n",
       "</style>\n",
       "<table border=\"1\" class=\"dataframe\">\n",
       "  <thead>\n",
       "    <tr style=\"text-align: right;\">\n",
       "      <th></th>\n",
       "      <th>Unnamed: 0</th>\n",
       "      <th>Ticker Symbol</th>\n",
       "      <th>Stock Price</th>\n",
       "      <th>Profit Margin</th>\n",
       "      <th>Working Capital Ratio</th>\n",
       "      <th>Quick Ratio</th>\n",
       "      <th>Earning Per Share</th>\n",
       "      <th>P/E Ratio</th>\n",
       "      <th>D/E Ratio</th>\n",
       "      <th>Ranking</th>\n",
       "      <th>Current Closing Price</th>\n",
       "      <th>ROI %</th>\n",
       "    </tr>\n",
       "  </thead>\n",
       "  <tbody>\n",
       "    <tr>\n",
       "      <th>0</th>\n",
       "      <td>0</td>\n",
       "      <td>YHOO</td>\n",
       "      <td>33.37</td>\n",
       "      <td>88.0</td>\n",
       "      <td>5.88</td>\n",
       "      <td>588.0</td>\n",
       "      <td>-4.64</td>\n",
       "      <td>-7.19</td>\n",
       "      <td>0.56</td>\n",
       "      <td>68.40</td>\n",
       "      <td>52.58</td>\n",
       "      <td>57.57</td>\n",
       "    </tr>\n",
       "    <tr>\n",
       "      <th>1</th>\n",
       "      <td>1</td>\n",
       "      <td>FTR</td>\n",
       "      <td>4.66</td>\n",
       "      <td>4.0</td>\n",
       "      <td>5.35</td>\n",
       "      <td>535.0</td>\n",
       "      <td>-0.29</td>\n",
       "      <td>-16.07</td>\n",
       "      <td>3.82</td>\n",
       "      <td>56.64</td>\n",
       "      <td>0.26</td>\n",
       "      <td>-94.42</td>\n",
       "    </tr>\n",
       "    <tr>\n",
       "      <th>2</th>\n",
       "      <td>2</td>\n",
       "      <td>AKAM</td>\n",
       "      <td>52.90</td>\n",
       "      <td>15.0</td>\n",
       "      <td>3.77</td>\n",
       "      <td>377.0</td>\n",
       "      <td>1.80</td>\n",
       "      <td>29.39</td>\n",
       "      <td>0.34</td>\n",
       "      <td>41.14</td>\n",
       "      <td>101.46</td>\n",
       "      <td>91.80</td>\n",
       "    </tr>\n",
       "    <tr>\n",
       "      <th>3</th>\n",
       "      <td>3</td>\n",
       "      <td>EW</td>\n",
       "      <td>79.21</td>\n",
       "      <td>20.0</td>\n",
       "      <td>4.30</td>\n",
       "      <td>359.0</td>\n",
       "      <td>2.30</td>\n",
       "      <td>34.44</td>\n",
       "      <td>0.62</td>\n",
       "      <td>40.25</td>\n",
       "      <td>88.07</td>\n",
       "      <td>11.19</td>\n",
       "    </tr>\n",
       "    <tr>\n",
       "      <th>4</th>\n",
       "      <td>4</td>\n",
       "      <td>EBAY</td>\n",
       "      <td>27.75</td>\n",
       "      <td>20.0</td>\n",
       "      <td>3.49</td>\n",
       "      <td>349.0</td>\n",
       "      <td>1.43</td>\n",
       "      <td>19.41</td>\n",
       "      <td>1.70</td>\n",
       "      <td>38.98</td>\n",
       "      <td>62.31</td>\n",
       "      <td>124.54</td>\n",
       "    </tr>\n",
       "    <tr>\n",
       "      <th>...</th>\n",
       "      <td>...</td>\n",
       "      <td>...</td>\n",
       "      <td>...</td>\n",
       "      <td>...</td>\n",
       "      <td>...</td>\n",
       "      <td>...</td>\n",
       "      <td>...</td>\n",
       "      <td>...</td>\n",
       "      <td>...</td>\n",
       "      <td>...</td>\n",
       "      <td>...</td>\n",
       "      <td>...</td>\n",
       "    </tr>\n",
       "    <tr>\n",
       "      <th>243</th>\n",
       "      <td>243</td>\n",
       "      <td>UNM</td>\n",
       "      <td>33.52</td>\n",
       "      <td>8.0</td>\n",
       "      <td>NaN</td>\n",
       "      <td>NaN</td>\n",
       "      <td>3.51</td>\n",
       "      <td>9.55</td>\n",
       "      <td>5.99</td>\n",
       "      <td>NaN</td>\n",
       "      <td>NaN</td>\n",
       "      <td>NaN</td>\n",
       "    </tr>\n",
       "    <tr>\n",
       "      <th>244</th>\n",
       "      <td>244</td>\n",
       "      <td>VTR</td>\n",
       "      <td>56.63</td>\n",
       "      <td>13.0</td>\n",
       "      <td>NaN</td>\n",
       "      <td>NaN</td>\n",
       "      <td>1.26</td>\n",
       "      <td>44.94</td>\n",
       "      <td>1.33</td>\n",
       "      <td>NaN</td>\n",
       "      <td>NaN</td>\n",
       "      <td>NaN</td>\n",
       "    </tr>\n",
       "    <tr>\n",
       "      <th>245</th>\n",
       "      <td>245</td>\n",
       "      <td>WFC</td>\n",
       "      <td>54.89</td>\n",
       "      <td>25.0</td>\n",
       "      <td>NaN</td>\n",
       "      <td>NaN</td>\n",
       "      <td>4.18</td>\n",
       "      <td>13.13</td>\n",
       "      <td>8.26</td>\n",
       "      <td>NaN</td>\n",
       "      <td>NaN</td>\n",
       "      <td>NaN</td>\n",
       "    </tr>\n",
       "    <tr>\n",
       "      <th>246</th>\n",
       "      <td>246</td>\n",
       "      <td>XL</td>\n",
       "      <td>39.82</td>\n",
       "      <td>13.0</td>\n",
       "      <td>NaN</td>\n",
       "      <td>NaN</td>\n",
       "      <td>4.22</td>\n",
       "      <td>9.44</td>\n",
       "      <td>4.03</td>\n",
       "      <td>NaN</td>\n",
       "      <td>NaN</td>\n",
       "      <td>NaN</td>\n",
       "    </tr>\n",
       "    <tr>\n",
       "      <th>247</th>\n",
       "      <td>247</td>\n",
       "      <td>ZION</td>\n",
       "      <td>27.47</td>\n",
       "      <td>14.0</td>\n",
       "      <td>NaN</td>\n",
       "      <td>NaN</td>\n",
       "      <td>1.20</td>\n",
       "      <td>22.89</td>\n",
       "      <td>6.95</td>\n",
       "      <td>NaN</td>\n",
       "      <td>NaN</td>\n",
       "      <td>NaN</td>\n",
       "    </tr>\n",
       "  </tbody>\n",
       "</table>\n",
       "<p>248 rows × 12 columns</p>\n",
       "</div>"
      ],
      "text/plain": [
       "     Unnamed: 0 Ticker Symbol  Stock Price  Profit Margin  \\\n",
       "0             0          YHOO        33.37           88.0   \n",
       "1             1           FTR         4.66            4.0   \n",
       "2             2          AKAM        52.90           15.0   \n",
       "3             3            EW        79.21           20.0   \n",
       "4             4          EBAY        27.75           20.0   \n",
       "..          ...           ...          ...            ...   \n",
       "243         243           UNM        33.52            8.0   \n",
       "244         244           VTR        56.63           13.0   \n",
       "245         245           WFC        54.89           25.0   \n",
       "246         246            XL        39.82           13.0   \n",
       "247         247          ZION        27.47           14.0   \n",
       "\n",
       "     Working Capital Ratio  Quick Ratio  Earning Per Share  P/E Ratio  \\\n",
       "0                     5.88        588.0              -4.64      -7.19   \n",
       "1                     5.35        535.0              -0.29     -16.07   \n",
       "2                     3.77        377.0               1.80      29.39   \n",
       "3                     4.30        359.0               2.30      34.44   \n",
       "4                     3.49        349.0               1.43      19.41   \n",
       "..                     ...          ...                ...        ...   \n",
       "243                    NaN          NaN               3.51       9.55   \n",
       "244                    NaN          NaN               1.26      44.94   \n",
       "245                    NaN          NaN               4.18      13.13   \n",
       "246                    NaN          NaN               4.22       9.44   \n",
       "247                    NaN          NaN               1.20      22.89   \n",
       "\n",
       "     D/E Ratio  Ranking  Current Closing Price   ROI %  \n",
       "0         0.56    68.40                  52.58   57.57  \n",
       "1         3.82    56.64                   0.26  -94.42  \n",
       "2         0.34    41.14                 101.46   91.80  \n",
       "3         0.62    40.25                  88.07   11.19  \n",
       "4         1.70    38.98                  62.31  124.54  \n",
       "..         ...      ...                    ...     ...  \n",
       "243       5.99      NaN                    NaN     NaN  \n",
       "244       1.33      NaN                    NaN     NaN  \n",
       "245       8.26      NaN                    NaN     NaN  \n",
       "246       4.03      NaN                    NaN     NaN  \n",
       "247       6.95      NaN                    NaN     NaN  \n",
       "\n",
       "[248 rows x 12 columns]"
      ]
     },
     "execution_count": 145,
     "metadata": {},
     "output_type": "execute_result"
    }
   ],
   "source": [
    "top_stocks_final_roi\n"
   ]
  },
  {
   "cell_type": "code",
   "execution_count": 146,
   "metadata": {},
   "outputs": [
    {
     "data": {
      "image/png": "[encoded data removed]",
      "text/plain": [
       "<Figure size 432x288 with 1 Axes>"
      ]
     },
     "metadata": {
      "needs_background": "light"
     },
     "output_type": "display_data"
    }
   ],
   "source": [
    "plt.scatter(\n",
    "    x=roi_df.loc[:,:],\n",
    "    y=roi_df.loc[:,\"ROI %\"]\n",
    ")\n",
    "plt.xlabel('Income Per Capita')\n",
    "plt.ylabel('Average Alcohol Consumed Per Person Per Year (L)')\n",
    "plt.show()"
   ]
  },
  {
   "cell_type": "markdown",
   "metadata": {},
   "source": [
    "## Stock Growth"
   ]
  },
  {
   "cell_type": "code",
   "execution_count": 147,
   "metadata": {},
   "outputs": [
    {
     "data": {
      "text/html": [
       "<div>\n",
       "<style scoped>\n",
       "    .dataframe tbody tr th:only-of-type {\n",
       "        vertical-align: middle;\n",
       "    }\n",
       "\n",
       "    .dataframe tbody tr th {\n",
       "        vertical-align: top;\n",
       "    }\n",
       "\n",
       "    .dataframe thead th {\n",
       "        text-align: right;\n",
       "    }\n",
       "</style>\n",
       "<table border=\"1\" class=\"dataframe\">\n",
       "  <thead>\n",
       "    <tr style=\"text-align: right;\">\n",
       "      <th></th>\n",
       "      <th>YHOO_close</th>\n",
       "      <th>FTR_close</th>\n",
       "      <th>AKAM_close</th>\n",
       "      <th>EW_close</th>\n",
       "      <th>EBAY_close</th>\n",
       "    </tr>\n",
       "    <tr>\n",
       "      <th>Date</th>\n",
       "      <th></th>\n",
       "      <th></th>\n",
       "      <th></th>\n",
       "      <th></th>\n",
       "      <th></th>\n",
       "    </tr>\n",
       "  </thead>\n",
       "  <tbody>\n",
       "    <tr>\n",
       "      <th>2021-02-12</th>\n",
       "      <td>NaN</td>\n",
       "      <td>NaN</td>\n",
       "      <td>101.59</td>\n",
       "      <td>87.65</td>\n",
       "      <td>63.01</td>\n",
       "    </tr>\n",
       "    <tr>\n",
       "      <th>2021-02-11</th>\n",
       "      <td>NaN</td>\n",
       "      <td>NaN</td>\n",
       "      <td>101.46</td>\n",
       "      <td>88.07</td>\n",
       "      <td>62.31</td>\n",
       "    </tr>\n",
       "    <tr>\n",
       "      <th>2021-02-10</th>\n",
       "      <td>NaN</td>\n",
       "      <td>NaN</td>\n",
       "      <td>105.10</td>\n",
       "      <td>86.39</td>\n",
       "      <td>62.32</td>\n",
       "    </tr>\n",
       "    <tr>\n",
       "      <th>2021-02-09</th>\n",
       "      <td>NaN</td>\n",
       "      <td>NaN</td>\n",
       "      <td>117.97</td>\n",
       "      <td>85.80</td>\n",
       "      <td>62.23</td>\n",
       "    </tr>\n",
       "    <tr>\n",
       "      <th>2021-02-08</th>\n",
       "      <td>NaN</td>\n",
       "      <td>NaN</td>\n",
       "      <td>117.28</td>\n",
       "      <td>86.08</td>\n",
       "      <td>63.84</td>\n",
       "    </tr>\n",
       "    <tr>\n",
       "      <th>...</th>\n",
       "      <td>...</td>\n",
       "      <td>...</td>\n",
       "      <td>...</td>\n",
       "      <td>...</td>\n",
       "      <td>...</td>\n",
       "    </tr>\n",
       "    <tr>\n",
       "      <th>2020-09-28</th>\n",
       "      <td>NaN</td>\n",
       "      <td>NaN</td>\n",
       "      <td>110.97</td>\n",
       "      <td>77.71</td>\n",
       "      <td>54.04</td>\n",
       "    </tr>\n",
       "    <tr>\n",
       "      <th>2020-09-25</th>\n",
       "      <td>NaN</td>\n",
       "      <td>NaN</td>\n",
       "      <td>111.47</td>\n",
       "      <td>77.45</td>\n",
       "      <td>52.48</td>\n",
       "    </tr>\n",
       "    <tr>\n",
       "      <th>2020-09-24</th>\n",
       "      <td>NaN</td>\n",
       "      <td>NaN</td>\n",
       "      <td>110.47</td>\n",
       "      <td>74.67</td>\n",
       "      <td>51.78</td>\n",
       "    </tr>\n",
       "    <tr>\n",
       "      <th>2020-09-23</th>\n",
       "      <td>NaN</td>\n",
       "      <td>NaN</td>\n",
       "      <td>110.08</td>\n",
       "      <td>76.05</td>\n",
       "      <td>50.68</td>\n",
       "    </tr>\n",
       "    <tr>\n",
       "      <th>2020-09-22</th>\n",
       "      <td>NaN</td>\n",
       "      <td>NaN</td>\n",
       "      <td>112.75</td>\n",
       "      <td>78.68</td>\n",
       "      <td>50.92</td>\n",
       "    </tr>\n",
       "  </tbody>\n",
       "</table>\n",
       "<p>100 rows × 5 columns</p>\n",
       "</div>"
      ],
      "text/plain": [
       "            YHOO_close  FTR_close  AKAM_close  EW_close  EBAY_close\n",
       "Date                                                               \n",
       "2021-02-12         NaN        NaN      101.59     87.65       63.01\n",
       "2021-02-11         NaN        NaN      101.46     88.07       62.31\n",
       "2021-02-10         NaN        NaN      105.10     86.39       62.32\n",
       "2021-02-09         NaN        NaN      117.97     85.80       62.23\n",
       "2021-02-08         NaN        NaN      117.28     86.08       63.84\n",
       "...                ...        ...         ...       ...         ...\n",
       "2020-09-28         NaN        NaN      110.97     77.71       54.04\n",
       "2020-09-25         NaN        NaN      111.47     77.45       52.48\n",
       "2020-09-24         NaN        NaN      110.47     74.67       51.78\n",
       "2020-09-23         NaN        NaN      110.08     76.05       50.68\n",
       "2020-09-22         NaN        NaN      112.75     78.68       50.92\n",
       "\n",
       "[100 rows x 5 columns]"
      ]
     },
     "execution_count": 147,
     "metadata": {},
     "output_type": "execute_result"
    }
   ],
   "source": [
    "stock_final_price = pd.read_csv(\"../data/clode_final_df.csv\").rename(columns={\"Unnamed: 0\": \"Date\"}).set_index('Date')\n",
    "\n",
    "stock_final_price"
   ]
  },
  {
   "cell_type": "code",
   "execution_count": 148,
   "metadata": {},
   "outputs": [
    {
     "data": {
      "image/png": "[encoded data removed]",
      "text/plain": [
       "<Figure size 432x288 with 1 Axes>"
      ]
     },
     "metadata": {
      "needs_background": "light"
     },
     "output_type": "display_data"
    }
   ],
   "source": [
    "# Stock Price Growth \n",
    "\n",
    "stock_final_price.plot(\n",
    "    xlabel = 'Date',\n",
    "    ylabel = 'Stock Price',\n",
    "    title = 'Stock Price Growth',\n",
    "    xlim = 0.5\n",
    ")\n",
    "\n",
    "plt.savefig(\"../visuals/stock_growth.png\")\n",
    "\n",
    "plt.show()"
   ]
  },
  {
   "cell_type": "code",
   "execution_count": null,
   "metadata": {},
   "outputs": [],
   "source": []
  }
 ],
 "metadata": {
  "kernelspec": {
   "display_name": "Python 3",
   "language": "python",
   "name": "python3"
  },
  "language_info": {
   "codemirror_mode": {
    "name": "ipython",
    "version": 3
   },
   "file_extension": ".py",
   "mimetype": "text/x-python",
   "name": "python",
   "nbconvert_exporter": "python",
   "pygments_lexer": "ipython3",
   "version": "3.8.5"
  }
 },
 "nbformat": 4,
 "nbformat_minor": 4
}
