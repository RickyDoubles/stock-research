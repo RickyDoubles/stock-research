{
 "cells": [
  {
   "cell_type": "markdown",
   "metadata": {},
   "source": [
    "## Import and Merge\n"
   ]
  },
  {
   "cell_type": "code",
   "execution_count": 1,
   "metadata": {},
   "outputs": [],
   "source": [
    "import matplotlib.pyplot as plt\n",
    "import pandas as pd\n",
    "import numpy as np\n",
    "import pathlib"
   ]
  },
  {
   "cell_type": "code",
   "execution_count": 2,
   "metadata": {},
   "outputs": [],
   "source": [
    "# read csv file \n",
    "fundamentals =pd.read_csv('../data/fundamentals.csv') "
   ]
  },
  {
   "cell_type": "code",
   "execution_count": 3,
   "metadata": {},
   "outputs": [],
   "source": [
    "# group by ticker\n",
    "fundamentals_group = fundamentals.groupby ('Ticker Symbol')"
   ]
  },
  {
   "cell_type": "code",
   "execution_count": 4,
   "metadata": {},
   "outputs": [
    {
     "data": {
      "text/html": [
       "<div>\n",
       "<style scoped>\n",
       "    .dataframe tbody tr th:only-of-type {\n",
       "        vertical-align: middle;\n",
       "    }\n",
       "\n",
       "    .dataframe tbody tr th {\n",
       "        vertical-align: top;\n",
       "    }\n",
       "\n",
       "    .dataframe thead th {\n",
       "        text-align: right;\n",
       "    }\n",
       "</style>\n",
       "<table border=\"1\" class=\"dataframe\">\n",
       "  <thead>\n",
       "    <tr style=\"text-align: right;\">\n",
       "      <th></th>\n",
       "      <th>Unnamed: 0</th>\n",
       "      <th>Ticker Symbol</th>\n",
       "      <th>Period Ending</th>\n",
       "      <th>Accounts Payable</th>\n",
       "      <th>Accounts Receivable</th>\n",
       "      <th>Add'l income/expense items</th>\n",
       "      <th>After Tax ROE</th>\n",
       "      <th>Capital Expenditures</th>\n",
       "      <th>Capital Surplus</th>\n",
       "      <th>Cash Ratio</th>\n",
       "      <th>...</th>\n",
       "      <th>Total Current Assets</th>\n",
       "      <th>Total Current Liabilities</th>\n",
       "      <th>Total Equity</th>\n",
       "      <th>Total Liabilities</th>\n",
       "      <th>Total Liabilities &amp; Equity</th>\n",
       "      <th>Total Revenue</th>\n",
       "      <th>Treasury Stock</th>\n",
       "      <th>For Year</th>\n",
       "      <th>Earnings Per Share</th>\n",
       "      <th>Estimated Shares Outstanding</th>\n",
       "    </tr>\n",
       "  </thead>\n",
       "  <tbody>\n",
       "    <tr>\n",
       "      <th>0</th>\n",
       "      <td>0</td>\n",
       "      <td>AAL</td>\n",
       "      <td>2012-12-31</td>\n",
       "      <td>3.068000e+09</td>\n",
       "      <td>-222000000.0</td>\n",
       "      <td>-1.961000e+09</td>\n",
       "      <td>23.0</td>\n",
       "      <td>-1.888000e+09</td>\n",
       "      <td>4.695000e+09</td>\n",
       "      <td>53.0</td>\n",
       "      <td>...</td>\n",
       "      <td>7.072000e+09</td>\n",
       "      <td>9.011000e+09</td>\n",
       "      <td>-7.987000e+09</td>\n",
       "      <td>2.489100e+10</td>\n",
       "      <td>1.690400e+10</td>\n",
       "      <td>2.485500e+10</td>\n",
       "      <td>-367000000.0</td>\n",
       "      <td>2012.0</td>\n",
       "      <td>-5.60</td>\n",
       "      <td>3.350000e+08</td>\n",
       "    </tr>\n",
       "    <tr>\n",
       "      <th>1</th>\n",
       "      <td>1</td>\n",
       "      <td>AAL</td>\n",
       "      <td>2013-12-31</td>\n",
       "      <td>4.975000e+09</td>\n",
       "      <td>-93000000.0</td>\n",
       "      <td>-2.723000e+09</td>\n",
       "      <td>67.0</td>\n",
       "      <td>-3.114000e+09</td>\n",
       "      <td>1.059200e+10</td>\n",
       "      <td>75.0</td>\n",
       "      <td>...</td>\n",
       "      <td>1.432300e+10</td>\n",
       "      <td>1.380600e+10</td>\n",
       "      <td>-2.731000e+09</td>\n",
       "      <td>4.500900e+10</td>\n",
       "      <td>4.227800e+10</td>\n",
       "      <td>2.674300e+10</td>\n",
       "      <td>0.0</td>\n",
       "      <td>2013.0</td>\n",
       "      <td>-11.25</td>\n",
       "      <td>1.630222e+08</td>\n",
       "    </tr>\n",
       "    <tr>\n",
       "      <th>2</th>\n",
       "      <td>2</td>\n",
       "      <td>AAL</td>\n",
       "      <td>2014-12-31</td>\n",
       "      <td>4.668000e+09</td>\n",
       "      <td>-160000000.0</td>\n",
       "      <td>-1.500000e+08</td>\n",
       "      <td>143.0</td>\n",
       "      <td>-5.311000e+09</td>\n",
       "      <td>1.513500e+10</td>\n",
       "      <td>60.0</td>\n",
       "      <td>...</td>\n",
       "      <td>1.175000e+10</td>\n",
       "      <td>1.340400e+10</td>\n",
       "      <td>2.021000e+09</td>\n",
       "      <td>4.120400e+10</td>\n",
       "      <td>4.322500e+10</td>\n",
       "      <td>4.265000e+10</td>\n",
       "      <td>0.0</td>\n",
       "      <td>2014.0</td>\n",
       "      <td>4.02</td>\n",
       "      <td>7.169154e+08</td>\n",
       "    </tr>\n",
       "    <tr>\n",
       "      <th>3</th>\n",
       "      <td>3</td>\n",
       "      <td>AAL</td>\n",
       "      <td>2015-12-31</td>\n",
       "      <td>5.102000e+09</td>\n",
       "      <td>352000000.0</td>\n",
       "      <td>-7.080000e+08</td>\n",
       "      <td>135.0</td>\n",
       "      <td>-6.151000e+09</td>\n",
       "      <td>1.159100e+10</td>\n",
       "      <td>51.0</td>\n",
       "      <td>...</td>\n",
       "      <td>9.985000e+09</td>\n",
       "      <td>1.360500e+10</td>\n",
       "      <td>5.635000e+09</td>\n",
       "      <td>4.278000e+10</td>\n",
       "      <td>4.841500e+10</td>\n",
       "      <td>4.099000e+10</td>\n",
       "      <td>0.0</td>\n",
       "      <td>2015.0</td>\n",
       "      <td>11.39</td>\n",
       "      <td>6.681299e+08</td>\n",
       "    </tr>\n",
       "    <tr>\n",
       "      <th>4</th>\n",
       "      <td>4</td>\n",
       "      <td>AAP</td>\n",
       "      <td>2012-12-29</td>\n",
       "      <td>2.409453e+09</td>\n",
       "      <td>-89482000.0</td>\n",
       "      <td>6.000000e+05</td>\n",
       "      <td>32.0</td>\n",
       "      <td>-2.711820e+08</td>\n",
       "      <td>5.202150e+08</td>\n",
       "      <td>23.0</td>\n",
       "      <td>...</td>\n",
       "      <td>3.184200e+09</td>\n",
       "      <td>2.559638e+09</td>\n",
       "      <td>1.210694e+09</td>\n",
       "      <td>3.403120e+09</td>\n",
       "      <td>4.613814e+09</td>\n",
       "      <td>6.205003e+09</td>\n",
       "      <td>-27095000.0</td>\n",
       "      <td>2012.0</td>\n",
       "      <td>5.29</td>\n",
       "      <td>7.328355e+07</td>\n",
       "    </tr>\n",
       "    <tr>\n",
       "      <th>...</th>\n",
       "      <td>...</td>\n",
       "      <td>...</td>\n",
       "      <td>...</td>\n",
       "      <td>...</td>\n",
       "      <td>...</td>\n",
       "      <td>...</td>\n",
       "      <td>...</td>\n",
       "      <td>...</td>\n",
       "      <td>...</td>\n",
       "      <td>...</td>\n",
       "      <td>...</td>\n",
       "      <td>...</td>\n",
       "      <td>...</td>\n",
       "      <td>...</td>\n",
       "      <td>...</td>\n",
       "      <td>...</td>\n",
       "      <td>...</td>\n",
       "      <td>...</td>\n",
       "      <td>...</td>\n",
       "      <td>...</td>\n",
       "      <td>...</td>\n",
       "    </tr>\n",
       "    <tr>\n",
       "      <th>1776</th>\n",
       "      <td>1776</td>\n",
       "      <td>ZION</td>\n",
       "      <td>2015-12-31</td>\n",
       "      <td>0.000000e+00</td>\n",
       "      <td>0.0</td>\n",
       "      <td>-2.530000e+06</td>\n",
       "      <td>4.0</td>\n",
       "      <td>-1.573610e+08</td>\n",
       "      <td>0.000000e+00</td>\n",
       "      <td>NaN</td>\n",
       "      <td>...</td>\n",
       "      <td>0.000000e+00</td>\n",
       "      <td>0.000000e+00</td>\n",
       "      <td>7.507519e+09</td>\n",
       "      <td>5.216201e+10</td>\n",
       "      <td>5.966952e+10</td>\n",
       "      <td>2.210591e+09</td>\n",
       "      <td>0.0</td>\n",
       "      <td>2015.0</td>\n",
       "      <td>1.20</td>\n",
       "      <td>2.578925e+08</td>\n",
       "    </tr>\n",
       "    <tr>\n",
       "      <th>1777</th>\n",
       "      <td>1777</td>\n",
       "      <td>ZTS</td>\n",
       "      <td>2013-12-31</td>\n",
       "      <td>1.381000e+09</td>\n",
       "      <td>-99000000.0</td>\n",
       "      <td>9.000000e+06</td>\n",
       "      <td>54.0</td>\n",
       "      <td>-1.840000e+08</td>\n",
       "      <td>8.780000e+08</td>\n",
       "      <td>43.0</td>\n",
       "      <td>...</td>\n",
       "      <td>3.357000e+09</td>\n",
       "      <td>1.415000e+09</td>\n",
       "      <td>9.400000e+08</td>\n",
       "      <td>5.618000e+09</td>\n",
       "      <td>6.558000e+09</td>\n",
       "      <td>4.561000e+09</td>\n",
       "      <td>0.0</td>\n",
       "      <td>2013.0</td>\n",
       "      <td>1.01</td>\n",
       "      <td>4.990099e+08</td>\n",
       "    </tr>\n",
       "    <tr>\n",
       "      <th>1778</th>\n",
       "      <td>1778</td>\n",
       "      <td>ZTS</td>\n",
       "      <td>2014-12-31</td>\n",
       "      <td>1.071000e+09</td>\n",
       "      <td>69000000.0</td>\n",
       "      <td>-7.000000e+06</td>\n",
       "      <td>44.0</td>\n",
       "      <td>-1.800000e+08</td>\n",
       "      <td>9.580000e+08</td>\n",
       "      <td>81.0</td>\n",
       "      <td>...</td>\n",
       "      <td>3.465000e+09</td>\n",
       "      <td>1.086000e+09</td>\n",
       "      <td>1.311000e+09</td>\n",
       "      <td>5.277000e+09</td>\n",
       "      <td>6.588000e+09</td>\n",
       "      <td>4.785000e+09</td>\n",
       "      <td>0.0</td>\n",
       "      <td>2014.0</td>\n",
       "      <td>1.16</td>\n",
       "      <td>5.025862e+08</td>\n",
       "    </tr>\n",
       "    <tr>\n",
       "      <th>1779</th>\n",
       "      <td>1779</td>\n",
       "      <td>ZTS</td>\n",
       "      <td>2015-12-31</td>\n",
       "      <td>1.313000e+09</td>\n",
       "      <td>-58000000.0</td>\n",
       "      <td>-8.100000e+07</td>\n",
       "      <td>32.0</td>\n",
       "      <td>-2.240000e+08</td>\n",
       "      <td>1.012000e+09</td>\n",
       "      <td>65.0</td>\n",
       "      <td>...</td>\n",
       "      <td>3.830000e+09</td>\n",
       "      <td>1.781000e+09</td>\n",
       "      <td>1.068000e+09</td>\n",
       "      <td>6.845000e+09</td>\n",
       "      <td>7.913000e+09</td>\n",
       "      <td>4.765000e+09</td>\n",
       "      <td>-203000000.0</td>\n",
       "      <td>2015.0</td>\n",
       "      <td>0.68</td>\n",
       "      <td>4.985294e+08</td>\n",
       "    </tr>\n",
       "    <tr>\n",
       "      <th>1780</th>\n",
       "      <td>1780</td>\n",
       "      <td>ZTS</td>\n",
       "      <td>2016-12-31</td>\n",
       "      <td>1.076000e+09</td>\n",
       "      <td>15000000.0</td>\n",
       "      <td>2.000000e+06</td>\n",
       "      <td>55.0</td>\n",
       "      <td>-2.160000e+08</td>\n",
       "      <td>1.024000e+09</td>\n",
       "      <td>65.0</td>\n",
       "      <td>...</td>\n",
       "      <td>3.390000e+09</td>\n",
       "      <td>1.117000e+09</td>\n",
       "      <td>1.487000e+09</td>\n",
       "      <td>6.162000e+09</td>\n",
       "      <td>7.649000e+09</td>\n",
       "      <td>4.888000e+09</td>\n",
       "      <td>-421000000.0</td>\n",
       "      <td>NaN</td>\n",
       "      <td>NaN</td>\n",
       "      <td>NaN</td>\n",
       "    </tr>\n",
       "  </tbody>\n",
       "</table>\n",
       "<p>1781 rows × 79 columns</p>\n",
       "</div>"
      ],
      "text/plain": [
       "      Unnamed: 0 Ticker Symbol Period Ending  Accounts Payable  \\\n",
       "0              0           AAL    2012-12-31      3.068000e+09   \n",
       "1              1           AAL    2013-12-31      4.975000e+09   \n",
       "2              2           AAL    2014-12-31      4.668000e+09   \n",
       "3              3           AAL    2015-12-31      5.102000e+09   \n",
       "4              4           AAP    2012-12-29      2.409453e+09   \n",
       "...          ...           ...           ...               ...   \n",
       "1776        1776          ZION    2015-12-31      0.000000e+00   \n",
       "1777        1777           ZTS    2013-12-31      1.381000e+09   \n",
       "1778        1778           ZTS    2014-12-31      1.071000e+09   \n",
       "1779        1779           ZTS    2015-12-31      1.313000e+09   \n",
       "1780        1780           ZTS    2016-12-31      1.076000e+09   \n",
       "\n",
       "      Accounts Receivable  Add'l income/expense items  After Tax ROE  \\\n",
       "0            -222000000.0               -1.961000e+09           23.0   \n",
       "1             -93000000.0               -2.723000e+09           67.0   \n",
       "2            -160000000.0               -1.500000e+08          143.0   \n",
       "3             352000000.0               -7.080000e+08          135.0   \n",
       "4             -89482000.0                6.000000e+05           32.0   \n",
       "...                   ...                         ...            ...   \n",
       "1776                  0.0               -2.530000e+06            4.0   \n",
       "1777          -99000000.0                9.000000e+06           54.0   \n",
       "1778           69000000.0               -7.000000e+06           44.0   \n",
       "1779          -58000000.0               -8.100000e+07           32.0   \n",
       "1780           15000000.0                2.000000e+06           55.0   \n",
       "\n",
       "      Capital Expenditures  Capital Surplus  Cash Ratio  ...  \\\n",
       "0            -1.888000e+09     4.695000e+09        53.0  ...   \n",
       "1            -3.114000e+09     1.059200e+10        75.0  ...   \n",
       "2            -5.311000e+09     1.513500e+10        60.0  ...   \n",
       "3            -6.151000e+09     1.159100e+10        51.0  ...   \n",
       "4            -2.711820e+08     5.202150e+08        23.0  ...   \n",
       "...                    ...              ...         ...  ...   \n",
       "1776         -1.573610e+08     0.000000e+00         NaN  ...   \n",
       "1777         -1.840000e+08     8.780000e+08        43.0  ...   \n",
       "1778         -1.800000e+08     9.580000e+08        81.0  ...   \n",
       "1779         -2.240000e+08     1.012000e+09        65.0  ...   \n",
       "1780         -2.160000e+08     1.024000e+09        65.0  ...   \n",
       "\n",
       "      Total Current Assets  Total Current Liabilities  Total Equity  \\\n",
       "0             7.072000e+09               9.011000e+09 -7.987000e+09   \n",
       "1             1.432300e+10               1.380600e+10 -2.731000e+09   \n",
       "2             1.175000e+10               1.340400e+10  2.021000e+09   \n",
       "3             9.985000e+09               1.360500e+10  5.635000e+09   \n",
       "4             3.184200e+09               2.559638e+09  1.210694e+09   \n",
       "...                    ...                        ...           ...   \n",
       "1776          0.000000e+00               0.000000e+00  7.507519e+09   \n",
       "1777          3.357000e+09               1.415000e+09  9.400000e+08   \n",
       "1778          3.465000e+09               1.086000e+09  1.311000e+09   \n",
       "1779          3.830000e+09               1.781000e+09  1.068000e+09   \n",
       "1780          3.390000e+09               1.117000e+09  1.487000e+09   \n",
       "\n",
       "      Total Liabilities  Total Liabilities & Equity  Total Revenue  \\\n",
       "0          2.489100e+10                1.690400e+10   2.485500e+10   \n",
       "1          4.500900e+10                4.227800e+10   2.674300e+10   \n",
       "2          4.120400e+10                4.322500e+10   4.265000e+10   \n",
       "3          4.278000e+10                4.841500e+10   4.099000e+10   \n",
       "4          3.403120e+09                4.613814e+09   6.205003e+09   \n",
       "...                 ...                         ...            ...   \n",
       "1776       5.216201e+10                5.966952e+10   2.210591e+09   \n",
       "1777       5.618000e+09                6.558000e+09   4.561000e+09   \n",
       "1778       5.277000e+09                6.588000e+09   4.785000e+09   \n",
       "1779       6.845000e+09                7.913000e+09   4.765000e+09   \n",
       "1780       6.162000e+09                7.649000e+09   4.888000e+09   \n",
       "\n",
       "      Treasury Stock  For Year  Earnings Per Share  \\\n",
       "0       -367000000.0    2012.0               -5.60   \n",
       "1                0.0    2013.0              -11.25   \n",
       "2                0.0    2014.0                4.02   \n",
       "3                0.0    2015.0               11.39   \n",
       "4        -27095000.0    2012.0                5.29   \n",
       "...              ...       ...                 ...   \n",
       "1776             0.0    2015.0                1.20   \n",
       "1777             0.0    2013.0                1.01   \n",
       "1778             0.0    2014.0                1.16   \n",
       "1779    -203000000.0    2015.0                0.68   \n",
       "1780    -421000000.0       NaN                 NaN   \n",
       "\n",
       "      Estimated Shares Outstanding  \n",
       "0                     3.350000e+08  \n",
       "1                     1.630222e+08  \n",
       "2                     7.169154e+08  \n",
       "3                     6.681299e+08  \n",
       "4                     7.328355e+07  \n",
       "...                            ...  \n",
       "1776                  2.578925e+08  \n",
       "1777                  4.990099e+08  \n",
       "1778                  5.025862e+08  \n",
       "1779                  4.985294e+08  \n",
       "1780                           NaN  \n",
       "\n",
       "[1781 rows x 79 columns]"
      ]
     },
     "execution_count": 4,
     "metadata": {},
     "output_type": "execute_result"
    }
   ],
   "source": [
    "fundamentals_group.head()"
   ]
  },
  {
   "cell_type": "code",
   "execution_count": 42,
   "metadata": {},
   "outputs": [],
   "source": [
    "# drop columns we don't need\n",
    "fundamentals_clean =fundamentals.set_index('Ticker Symbol').loc[ \n",
    "           : , \n",
    "            ['Period Ending', 'Net Income','Profit Margin' ,'Quick Ratio' ,'Total Assets', \n",
    "             'Total Liabilities', 'Earnings Per Share', 'Estimated Shares Outstanding','Total Current Assets', 'Total Current Liabilities' ]\n",
    "]\n"
   ]
  },
  {
   "cell_type": "code",
   "execution_count": 6,
   "metadata": {},
   "outputs": [],
   "source": [
    "def clean_date(date):\n",
    "    if len(date) > 10: \n",
    "        clean_date= date[:10]\n",
    "    else: \n",
    "        clean_date= date\n",
    "    return clean_date\n",
    "\n",
    "assert clean_date('2016-12-30 00:00:00') == '2016-12-30'\n",
    "assert clean_date('2016-11-06 00:00:00') == '2016-11-06'\n",
    "assert clean_date( '2016-12-30')=='2016-12-30'"
   ]
  },
  {
   "cell_type": "code",
   "execution_count": 7,
   "metadata": {},
   "outputs": [],
   "source": [
    "fundamentals_clean['Period Ending'] = fundamentals_clean['Period Ending'].apply(clean_date) "
   ]
  },
  {
   "cell_type": "code",
   "execution_count": 8,
   "metadata": {},
   "outputs": [],
   "source": [
    "final_fund =fundamentals_clean.loc[(fundamentals_clean['Period Ending'] == '2015-12-31') ]"
   ]
  },
  {
   "cell_type": "code",
   "execution_count": 9,
   "metadata": {},
   "outputs": [
    {
     "data": {
      "text/html": [
       "<div>\n",
       "<style scoped>\n",
       "    .dataframe tbody tr th:only-of-type {\n",
       "        vertical-align: middle;\n",
       "    }\n",
       "\n",
       "    .dataframe tbody tr th {\n",
       "        vertical-align: top;\n",
       "    }\n",
       "\n",
       "    .dataframe thead th {\n",
       "        text-align: right;\n",
       "    }\n",
       "</style>\n",
       "<table border=\"1\" class=\"dataframe\">\n",
       "  <thead>\n",
       "    <tr style=\"text-align: right;\">\n",
       "      <th></th>\n",
       "      <th>Period Ending</th>\n",
       "      <th>Net Income</th>\n",
       "      <th>Profit Margin</th>\n",
       "      <th>Quick Ratio</th>\n",
       "      <th>Total Assets</th>\n",
       "      <th>Total Liabilities</th>\n",
       "      <th>Earnings Per Share</th>\n",
       "      <th>Estimated Shares Outstanding</th>\n",
       "      <th>Total Current Assets</th>\n",
       "      <th>Total Current Liabilities</th>\n",
       "    </tr>\n",
       "    <tr>\n",
       "      <th>Ticker Symbol</th>\n",
       "      <th></th>\n",
       "      <th></th>\n",
       "      <th></th>\n",
       "      <th></th>\n",
       "      <th></th>\n",
       "      <th></th>\n",
       "      <th></th>\n",
       "      <th></th>\n",
       "      <th></th>\n",
       "      <th></th>\n",
       "    </tr>\n",
       "  </thead>\n",
       "  <tbody>\n",
       "    <tr>\n",
       "      <th>AAL</th>\n",
       "      <td>2015-12-31</td>\n",
       "      <td>7.610000e+09</td>\n",
       "      <td>19.0</td>\n",
       "      <td>67.0</td>\n",
       "      <td>4.841500e+10</td>\n",
       "      <td>4.278000e+10</td>\n",
       "      <td>11.39</td>\n",
       "      <td>6.681299e+08</td>\n",
       "      <td>9.985000e+09</td>\n",
       "      <td>1.360500e+10</td>\n",
       "    </tr>\n",
       "    <tr>\n",
       "      <th>ABBV</th>\n",
       "      <td>2015-12-31</td>\n",
       "      <td>5.144000e+09</td>\n",
       "      <td>23.0</td>\n",
       "      <td>134.0</td>\n",
       "      <td>5.305000e+10</td>\n",
       "      <td>4.910500e+10</td>\n",
       "      <td>3.15</td>\n",
       "      <td>1.633016e+09</td>\n",
       "      <td>1.631400e+10</td>\n",
       "      <td>1.089400e+10</td>\n",
       "    </tr>\n",
       "    <tr>\n",
       "      <th>ABT</th>\n",
       "      <td>2015-12-31</td>\n",
       "      <td>4.423000e+09</td>\n",
       "      <td>22.0</td>\n",
       "      <td>126.0</td>\n",
       "      <td>4.124700e+10</td>\n",
       "      <td>2.003600e+10</td>\n",
       "      <td>2.94</td>\n",
       "      <td>1.504422e+09</td>\n",
       "      <td>1.415500e+10</td>\n",
       "      <td>9.186000e+09</td>\n",
       "    </tr>\n",
       "    <tr>\n",
       "      <th>ADM</th>\n",
       "      <td>2015-12-31</td>\n",
       "      <td>1.849000e+09</td>\n",
       "      <td>3.0</td>\n",
       "      <td>101.0</td>\n",
       "      <td>4.015700e+10</td>\n",
       "      <td>2.224200e+10</td>\n",
       "      <td>2.99</td>\n",
       "      <td>6.183946e+08</td>\n",
       "      <td>2.182900e+10</td>\n",
       "      <td>1.350500e+10</td>\n",
       "    </tr>\n",
       "    <tr>\n",
       "      <th>ADS</th>\n",
       "      <td>2015-12-31</td>\n",
       "      <td>5.965410e+08</td>\n",
       "      <td>9.0</td>\n",
       "      <td>254.0</td>\n",
       "      <td>2.242183e+10</td>\n",
       "      <td>2.041180e+10</td>\n",
       "      <td>8.91</td>\n",
       "      <td>6.695185e+07</td>\n",
       "      <td>1.625042e+10</td>\n",
       "      <td>6.405559e+09</td>\n",
       "    </tr>\n",
       "    <tr>\n",
       "      <th>...</th>\n",
       "      <td>...</td>\n",
       "      <td>...</td>\n",
       "      <td>...</td>\n",
       "      <td>...</td>\n",
       "      <td>...</td>\n",
       "      <td>...</td>\n",
       "      <td>...</td>\n",
       "      <td>...</td>\n",
       "      <td>...</td>\n",
       "      <td>...</td>\n",
       "    </tr>\n",
       "    <tr>\n",
       "      <th>XYL</th>\n",
       "      <td>2015-12-31</td>\n",
       "      <td>3.400000e+08</td>\n",
       "      <td>9.0</td>\n",
       "      <td>191.0</td>\n",
       "      <td>4.657000e+09</td>\n",
       "      <td>2.573000e+09</td>\n",
       "      <td>1.88</td>\n",
       "      <td>1.808511e+08</td>\n",
       "      <td>2.005000e+09</td>\n",
       "      <td>8.230000e+08</td>\n",
       "    </tr>\n",
       "    <tr>\n",
       "      <th>YHOO</th>\n",
       "      <td>2015-12-31</td>\n",
       "      <td>-4.359082e+09</td>\n",
       "      <td>88.0</td>\n",
       "      <td>588.0</td>\n",
       "      <td>4.520397e+10</td>\n",
       "      <td>1.616043e+10</td>\n",
       "      <td>-4.64</td>\n",
       "      <td>9.394573e+08</td>\n",
       "      <td>7.507319e+09</td>\n",
       "      <td>1.277380e+09</td>\n",
       "    </tr>\n",
       "    <tr>\n",
       "      <th>ZBH</th>\n",
       "      <td>2015-12-31</td>\n",
       "      <td>1.470000e+08</td>\n",
       "      <td>2.0</td>\n",
       "      <td>223.0</td>\n",
       "      <td>2.721950e+10</td>\n",
       "      <td>1.733160e+10</td>\n",
       "      <td>0.78</td>\n",
       "      <td>1.884615e+08</td>\n",
       "      <td>5.862900e+09</td>\n",
       "      <td>1.617900e+09</td>\n",
       "    </tr>\n",
       "    <tr>\n",
       "      <th>ZION</th>\n",
       "      <td>2015-12-31</td>\n",
       "      <td>3.094710e+08</td>\n",
       "      <td>14.0</td>\n",
       "      <td>NaN</td>\n",
       "      <td>5.966952e+10</td>\n",
       "      <td>5.216201e+10</td>\n",
       "      <td>1.20</td>\n",
       "      <td>2.578925e+08</td>\n",
       "      <td>0.000000e+00</td>\n",
       "      <td>0.000000e+00</td>\n",
       "    </tr>\n",
       "    <tr>\n",
       "      <th>ZTS</th>\n",
       "      <td>2015-12-31</td>\n",
       "      <td>3.390000e+08</td>\n",
       "      <td>7.0</td>\n",
       "      <td>133.0</td>\n",
       "      <td>7.913000e+09</td>\n",
       "      <td>6.845000e+09</td>\n",
       "      <td>0.68</td>\n",
       "      <td>4.985294e+08</td>\n",
       "      <td>3.830000e+09</td>\n",
       "      <td>1.781000e+09</td>\n",
       "    </tr>\n",
       "  </tbody>\n",
       "</table>\n",
       "<p>317 rows × 10 columns</p>\n",
       "</div>"
      ],
      "text/plain": [
       "              Period Ending    Net Income  Profit Margin  Quick Ratio  \\\n",
       "Ticker Symbol                                                           \n",
       "AAL              2015-12-31  7.610000e+09           19.0         67.0   \n",
       "ABBV             2015-12-31  5.144000e+09           23.0        134.0   \n",
       "ABT              2015-12-31  4.423000e+09           22.0        126.0   \n",
       "ADM              2015-12-31  1.849000e+09            3.0        101.0   \n",
       "ADS              2015-12-31  5.965410e+08            9.0        254.0   \n",
       "...                     ...           ...            ...          ...   \n",
       "XYL              2015-12-31  3.400000e+08            9.0        191.0   \n",
       "YHOO             2015-12-31 -4.359082e+09           88.0        588.0   \n",
       "ZBH              2015-12-31  1.470000e+08            2.0        223.0   \n",
       "ZION             2015-12-31  3.094710e+08           14.0          NaN   \n",
       "ZTS              2015-12-31  3.390000e+08            7.0        133.0   \n",
       "\n",
       "               Total Assets  Total Liabilities  Earnings Per Share  \\\n",
       "Ticker Symbol                                                        \n",
       "AAL            4.841500e+10       4.278000e+10               11.39   \n",
       "ABBV           5.305000e+10       4.910500e+10                3.15   \n",
       "ABT            4.124700e+10       2.003600e+10                2.94   \n",
       "ADM            4.015700e+10       2.224200e+10                2.99   \n",
       "ADS            2.242183e+10       2.041180e+10                8.91   \n",
       "...                     ...                ...                 ...   \n",
       "XYL            4.657000e+09       2.573000e+09                1.88   \n",
       "YHOO           4.520397e+10       1.616043e+10               -4.64   \n",
       "ZBH            2.721950e+10       1.733160e+10                0.78   \n",
       "ZION           5.966952e+10       5.216201e+10                1.20   \n",
       "ZTS            7.913000e+09       6.845000e+09                0.68   \n",
       "\n",
       "               Estimated Shares Outstanding  Total Current Assets  \\\n",
       "Ticker Symbol                                                       \n",
       "AAL                            6.681299e+08          9.985000e+09   \n",
       "ABBV                           1.633016e+09          1.631400e+10   \n",
       "ABT                            1.504422e+09          1.415500e+10   \n",
       "ADM                            6.183946e+08          2.182900e+10   \n",
       "ADS                            6.695185e+07          1.625042e+10   \n",
       "...                                     ...                   ...   \n",
       "XYL                            1.808511e+08          2.005000e+09   \n",
       "YHOO                           9.394573e+08          7.507319e+09   \n",
       "ZBH                            1.884615e+08          5.862900e+09   \n",
       "ZION                           2.578925e+08          0.000000e+00   \n",
       "ZTS                            4.985294e+08          3.830000e+09   \n",
       "\n",
       "               Total Current Liabilities  \n",
       "Ticker Symbol                             \n",
       "AAL                         1.360500e+10  \n",
       "ABBV                        1.089400e+10  \n",
       "ABT                         9.186000e+09  \n",
       "ADM                         1.350500e+10  \n",
       "ADS                         6.405559e+09  \n",
       "...                                  ...  \n",
       "XYL                         8.230000e+08  \n",
       "YHOO                        1.277380e+09  \n",
       "ZBH                         1.617900e+09  \n",
       "ZION                        0.000000e+00  \n",
       "ZTS                         1.781000e+09  \n",
       "\n",
       "[317 rows x 10 columns]"
      ]
     },
     "execution_count": 9,
     "metadata": {},
     "output_type": "execute_result"
    }
   ],
   "source": [
    "final_fund"
   ]
  },
  {
   "cell_type": "code",
   "execution_count": 10,
   "metadata": {},
   "outputs": [
    {
     "data": {
      "text/html": [
       "<div>\n",
       "<style scoped>\n",
       "    .dataframe tbody tr th:only-of-type {\n",
       "        vertical-align: middle;\n",
       "    }\n",
       "\n",
       "    .dataframe tbody tr th {\n",
       "        vertical-align: top;\n",
       "    }\n",
       "\n",
       "    .dataframe thead th {\n",
       "        text-align: right;\n",
       "    }\n",
       "</style>\n",
       "<table border=\"1\" class=\"dataframe\">\n",
       "  <thead>\n",
       "    <tr style=\"text-align: right;\">\n",
       "      <th></th>\n",
       "      <th>date</th>\n",
       "      <th>symbol</th>\n",
       "      <th>open</th>\n",
       "      <th>close</th>\n",
       "      <th>low</th>\n",
       "      <th>high</th>\n",
       "      <th>volume</th>\n",
       "    </tr>\n",
       "  </thead>\n",
       "  <tbody>\n",
       "    <tr>\n",
       "      <th>0</th>\n",
       "      <td>2016-01-05 00:00:00</td>\n",
       "      <td>WLTW</td>\n",
       "      <td>123.430000</td>\n",
       "      <td>125.839996</td>\n",
       "      <td>122.309998</td>\n",
       "      <td>126.250000</td>\n",
       "      <td>2163600.0</td>\n",
       "    </tr>\n",
       "    <tr>\n",
       "      <th>1</th>\n",
       "      <td>2016-01-06 00:00:00</td>\n",
       "      <td>WLTW</td>\n",
       "      <td>125.239998</td>\n",
       "      <td>119.980003</td>\n",
       "      <td>119.940002</td>\n",
       "      <td>125.540001</td>\n",
       "      <td>2386400.0</td>\n",
       "    </tr>\n",
       "    <tr>\n",
       "      <th>2</th>\n",
       "      <td>2016-01-07 00:00:00</td>\n",
       "      <td>WLTW</td>\n",
       "      <td>116.379997</td>\n",
       "      <td>114.949997</td>\n",
       "      <td>114.930000</td>\n",
       "      <td>119.739998</td>\n",
       "      <td>2489500.0</td>\n",
       "    </tr>\n",
       "    <tr>\n",
       "      <th>3</th>\n",
       "      <td>2016-01-08 00:00:00</td>\n",
       "      <td>WLTW</td>\n",
       "      <td>115.480003</td>\n",
       "      <td>116.620003</td>\n",
       "      <td>113.500000</td>\n",
       "      <td>117.440002</td>\n",
       "      <td>2006300.0</td>\n",
       "    </tr>\n",
       "    <tr>\n",
       "      <th>4</th>\n",
       "      <td>2016-01-11 00:00:00</td>\n",
       "      <td>WLTW</td>\n",
       "      <td>117.010002</td>\n",
       "      <td>114.970001</td>\n",
       "      <td>114.089996</td>\n",
       "      <td>117.330002</td>\n",
       "      <td>1408600.0</td>\n",
       "    </tr>\n",
       "  </tbody>\n",
       "</table>\n",
       "</div>"
      ],
      "text/plain": [
       "                  date symbol        open       close         low        high  \\\n",
       "0  2016-01-05 00:00:00   WLTW  123.430000  125.839996  122.309998  126.250000   \n",
       "1  2016-01-06 00:00:00   WLTW  125.239998  119.980003  119.940002  125.540001   \n",
       "2  2016-01-07 00:00:00   WLTW  116.379997  114.949997  114.930000  119.739998   \n",
       "3  2016-01-08 00:00:00   WLTW  115.480003  116.620003  113.500000  117.440002   \n",
       "4  2016-01-11 00:00:00   WLTW  117.010002  114.970001  114.089996  117.330002   \n",
       "\n",
       "      volume  \n",
       "0  2163600.0  \n",
       "1  2386400.0  \n",
       "2  2489500.0  \n",
       "3  2006300.0  \n",
       "4  1408600.0  "
      ]
     },
     "execution_count": 10,
     "metadata": {},
     "output_type": "execute_result"
    }
   ],
   "source": [
    "# read prices csv\n",
    "prices= pd.read_csv('../data/prices.csv') \n",
    "prices.head()"
   ]
  },
  {
   "cell_type": "code",
   "execution_count": 11,
   "metadata": {},
   "outputs": [],
   "source": [
    "# drop columns we don't need\n",
    "prices_index =prices.set_index('symbol').loc[ \n",
    "           : , \n",
    "            ['date', 'close']\n",
    "]"
   ]
  },
  {
   "cell_type": "code",
   "execution_count": 12,
   "metadata": {},
   "outputs": [],
   "source": [
    "prices_index['date'] = prices_index['date'].apply(clean_date) "
   ]
  },
  {
   "cell_type": "code",
   "execution_count": 13,
   "metadata": {},
   "outputs": [],
   "source": [
    "final_prices = prices_index.loc[(prices_index['date'] == '2015-12-30') ]"
   ]
  },
  {
   "cell_type": "code",
   "execution_count": 14,
   "metadata": {},
   "outputs": [],
   "source": [
    "final_prices.index.name = 'Ticker Symbol'"
   ]
  },
  {
   "cell_type": "code",
   "execution_count": 15,
   "metadata": {},
   "outputs": [],
   "source": [
    "final_prices_renamed = final_prices.rename(columns={\"close\": \"Closing Price\"})"
   ]
  },
  {
   "cell_type": "code",
   "execution_count": 16,
   "metadata": {},
   "outputs": [],
   "source": [
    "Final_data_df =pd.merge(\n",
    "    left = final_fund ,\n",
    "    right= final_prices_renamed['Closing Price'] ,\n",
    "    how=\"inner\",\n",
    "    left_index= True ,\n",
    "    right_index = True\n",
    ")"
   ]
  },
  {
   "cell_type": "code",
   "execution_count": 17,
   "metadata": {},
   "outputs": [
    {
     "data": {
      "text/html": [
       "<div>\n",
       "<style scoped>\n",
       "    .dataframe tbody tr th:only-of-type {\n",
       "        vertical-align: middle;\n",
       "    }\n",
       "\n",
       "    .dataframe tbody tr th {\n",
       "        vertical-align: top;\n",
       "    }\n",
       "\n",
       "    .dataframe thead th {\n",
       "        text-align: right;\n",
       "    }\n",
       "</style>\n",
       "<table border=\"1\" class=\"dataframe\">\n",
       "  <thead>\n",
       "    <tr style=\"text-align: right;\">\n",
       "      <th></th>\n",
       "      <th>Period Ending</th>\n",
       "      <th>Net Income</th>\n",
       "      <th>Profit Margin</th>\n",
       "      <th>Quick Ratio</th>\n",
       "      <th>Total Assets</th>\n",
       "      <th>Total Liabilities</th>\n",
       "      <th>Earnings Per Share</th>\n",
       "      <th>Estimated Shares Outstanding</th>\n",
       "      <th>Total Current Assets</th>\n",
       "      <th>Total Current Liabilities</th>\n",
       "      <th>Closing Price</th>\n",
       "    </tr>\n",
       "    <tr>\n",
       "      <th>Ticker Symbol</th>\n",
       "      <th></th>\n",
       "      <th></th>\n",
       "      <th></th>\n",
       "      <th></th>\n",
       "      <th></th>\n",
       "      <th></th>\n",
       "      <th></th>\n",
       "      <th></th>\n",
       "      <th></th>\n",
       "      <th></th>\n",
       "      <th></th>\n",
       "    </tr>\n",
       "  </thead>\n",
       "  <tbody>\n",
       "    <tr>\n",
       "      <th>AAL</th>\n",
       "      <td>2015-12-31</td>\n",
       "      <td>7.610000e+09</td>\n",
       "      <td>19.0</td>\n",
       "      <td>67.0</td>\n",
       "      <td>4.841500e+10</td>\n",
       "      <td>4.278000e+10</td>\n",
       "      <td>11.39</td>\n",
       "      <td>6.681299e+08</td>\n",
       "      <td>9.985000e+09</td>\n",
       "      <td>1.360500e+10</td>\n",
       "      <td>42.799999</td>\n",
       "    </tr>\n",
       "    <tr>\n",
       "      <th>ABBV</th>\n",
       "      <td>2015-12-31</td>\n",
       "      <td>5.144000e+09</td>\n",
       "      <td>23.0</td>\n",
       "      <td>134.0</td>\n",
       "      <td>5.305000e+10</td>\n",
       "      <td>4.910500e+10</td>\n",
       "      <td>3.15</td>\n",
       "      <td>1.633016e+09</td>\n",
       "      <td>1.631400e+10</td>\n",
       "      <td>1.089400e+10</td>\n",
       "      <td>59.799999</td>\n",
       "    </tr>\n",
       "    <tr>\n",
       "      <th>ABT</th>\n",
       "      <td>2015-12-31</td>\n",
       "      <td>4.423000e+09</td>\n",
       "      <td>22.0</td>\n",
       "      <td>126.0</td>\n",
       "      <td>4.124700e+10</td>\n",
       "      <td>2.003600e+10</td>\n",
       "      <td>2.94</td>\n",
       "      <td>1.504422e+09</td>\n",
       "      <td>1.415500e+10</td>\n",
       "      <td>9.186000e+09</td>\n",
       "      <td>45.270000</td>\n",
       "    </tr>\n",
       "    <tr>\n",
       "      <th>ADM</th>\n",
       "      <td>2015-12-31</td>\n",
       "      <td>1.849000e+09</td>\n",
       "      <td>3.0</td>\n",
       "      <td>101.0</td>\n",
       "      <td>4.015700e+10</td>\n",
       "      <td>2.224200e+10</td>\n",
       "      <td>2.99</td>\n",
       "      <td>6.183946e+08</td>\n",
       "      <td>2.182900e+10</td>\n",
       "      <td>1.350500e+10</td>\n",
       "      <td>36.880001</td>\n",
       "    </tr>\n",
       "    <tr>\n",
       "      <th>ADS</th>\n",
       "      <td>2015-12-31</td>\n",
       "      <td>5.965410e+08</td>\n",
       "      <td>9.0</td>\n",
       "      <td>254.0</td>\n",
       "      <td>2.242183e+10</td>\n",
       "      <td>2.041180e+10</td>\n",
       "      <td>8.91</td>\n",
       "      <td>6.695185e+07</td>\n",
       "      <td>1.625042e+10</td>\n",
       "      <td>6.405559e+09</td>\n",
       "      <td>276.769989</td>\n",
       "    </tr>\n",
       "    <tr>\n",
       "      <th>...</th>\n",
       "      <td>...</td>\n",
       "      <td>...</td>\n",
       "      <td>...</td>\n",
       "      <td>...</td>\n",
       "      <td>...</td>\n",
       "      <td>...</td>\n",
       "      <td>...</td>\n",
       "      <td>...</td>\n",
       "      <td>...</td>\n",
       "      <td>...</td>\n",
       "      <td>...</td>\n",
       "    </tr>\n",
       "    <tr>\n",
       "      <th>XYL</th>\n",
       "      <td>2015-12-31</td>\n",
       "      <td>3.400000e+08</td>\n",
       "      <td>9.0</td>\n",
       "      <td>191.0</td>\n",
       "      <td>4.657000e+09</td>\n",
       "      <td>2.573000e+09</td>\n",
       "      <td>1.88</td>\n",
       "      <td>1.808511e+08</td>\n",
       "      <td>2.005000e+09</td>\n",
       "      <td>8.230000e+08</td>\n",
       "      <td>36.869999</td>\n",
       "    </tr>\n",
       "    <tr>\n",
       "      <th>YHOO</th>\n",
       "      <td>2015-12-31</td>\n",
       "      <td>-4.359082e+09</td>\n",
       "      <td>88.0</td>\n",
       "      <td>588.0</td>\n",
       "      <td>4.520397e+10</td>\n",
       "      <td>1.616043e+10</td>\n",
       "      <td>-4.64</td>\n",
       "      <td>9.394573e+08</td>\n",
       "      <td>7.507319e+09</td>\n",
       "      <td>1.277380e+09</td>\n",
       "      <td>33.369999</td>\n",
       "    </tr>\n",
       "    <tr>\n",
       "      <th>ZBH</th>\n",
       "      <td>2015-12-31</td>\n",
       "      <td>1.470000e+08</td>\n",
       "      <td>2.0</td>\n",
       "      <td>223.0</td>\n",
       "      <td>2.721950e+10</td>\n",
       "      <td>1.733160e+10</td>\n",
       "      <td>0.78</td>\n",
       "      <td>1.884615e+08</td>\n",
       "      <td>5.862900e+09</td>\n",
       "      <td>1.617900e+09</td>\n",
       "      <td>102.470001</td>\n",
       "    </tr>\n",
       "    <tr>\n",
       "      <th>ZION</th>\n",
       "      <td>2015-12-31</td>\n",
       "      <td>3.094710e+08</td>\n",
       "      <td>14.0</td>\n",
       "      <td>NaN</td>\n",
       "      <td>5.966952e+10</td>\n",
       "      <td>5.216201e+10</td>\n",
       "      <td>1.20</td>\n",
       "      <td>2.578925e+08</td>\n",
       "      <td>0.000000e+00</td>\n",
       "      <td>0.000000e+00</td>\n",
       "      <td>27.469999</td>\n",
       "    </tr>\n",
       "    <tr>\n",
       "      <th>ZTS</th>\n",
       "      <td>2015-12-31</td>\n",
       "      <td>3.390000e+08</td>\n",
       "      <td>7.0</td>\n",
       "      <td>133.0</td>\n",
       "      <td>7.913000e+09</td>\n",
       "      <td>6.845000e+09</td>\n",
       "      <td>0.68</td>\n",
       "      <td>4.985294e+08</td>\n",
       "      <td>3.830000e+09</td>\n",
       "      <td>1.781000e+09</td>\n",
       "      <td>48.259998</td>\n",
       "    </tr>\n",
       "  </tbody>\n",
       "</table>\n",
       "<p>315 rows × 11 columns</p>\n",
       "</div>"
      ],
      "text/plain": [
       "              Period Ending    Net Income  Profit Margin  Quick Ratio  \\\n",
       "Ticker Symbol                                                           \n",
       "AAL              2015-12-31  7.610000e+09           19.0         67.0   \n",
       "ABBV             2015-12-31  5.144000e+09           23.0        134.0   \n",
       "ABT              2015-12-31  4.423000e+09           22.0        126.0   \n",
       "ADM              2015-12-31  1.849000e+09            3.0        101.0   \n",
       "ADS              2015-12-31  5.965410e+08            9.0        254.0   \n",
       "...                     ...           ...            ...          ...   \n",
       "XYL              2015-12-31  3.400000e+08            9.0        191.0   \n",
       "YHOO             2015-12-31 -4.359082e+09           88.0        588.0   \n",
       "ZBH              2015-12-31  1.470000e+08            2.0        223.0   \n",
       "ZION             2015-12-31  3.094710e+08           14.0          NaN   \n",
       "ZTS              2015-12-31  3.390000e+08            7.0        133.0   \n",
       "\n",
       "               Total Assets  Total Liabilities  Earnings Per Share  \\\n",
       "Ticker Symbol                                                        \n",
       "AAL            4.841500e+10       4.278000e+10               11.39   \n",
       "ABBV           5.305000e+10       4.910500e+10                3.15   \n",
       "ABT            4.124700e+10       2.003600e+10                2.94   \n",
       "ADM            4.015700e+10       2.224200e+10                2.99   \n",
       "ADS            2.242183e+10       2.041180e+10                8.91   \n",
       "...                     ...                ...                 ...   \n",
       "XYL            4.657000e+09       2.573000e+09                1.88   \n",
       "YHOO           4.520397e+10       1.616043e+10               -4.64   \n",
       "ZBH            2.721950e+10       1.733160e+10                0.78   \n",
       "ZION           5.966952e+10       5.216201e+10                1.20   \n",
       "ZTS            7.913000e+09       6.845000e+09                0.68   \n",
       "\n",
       "               Estimated Shares Outstanding  Total Current Assets  \\\n",
       "Ticker Symbol                                                       \n",
       "AAL                            6.681299e+08          9.985000e+09   \n",
       "ABBV                           1.633016e+09          1.631400e+10   \n",
       "ABT                            1.504422e+09          1.415500e+10   \n",
       "ADM                            6.183946e+08          2.182900e+10   \n",
       "ADS                            6.695185e+07          1.625042e+10   \n",
       "...                                     ...                   ...   \n",
       "XYL                            1.808511e+08          2.005000e+09   \n",
       "YHOO                           9.394573e+08          7.507319e+09   \n",
       "ZBH                            1.884615e+08          5.862900e+09   \n",
       "ZION                           2.578925e+08          0.000000e+00   \n",
       "ZTS                            4.985294e+08          3.830000e+09   \n",
       "\n",
       "               Total Current Liabilities  Closing Price  \n",
       "Ticker Symbol                                            \n",
       "AAL                         1.360500e+10      42.799999  \n",
       "ABBV                        1.089400e+10      59.799999  \n",
       "ABT                         9.186000e+09      45.270000  \n",
       "ADM                         1.350500e+10      36.880001  \n",
       "ADS                         6.405559e+09     276.769989  \n",
       "...                                  ...            ...  \n",
       "XYL                         8.230000e+08      36.869999  \n",
       "YHOO                        1.277380e+09      33.369999  \n",
       "ZBH                         1.617900e+09     102.470001  \n",
       "ZION                        0.000000e+00      27.469999  \n",
       "ZTS                         1.781000e+09      48.259998  \n",
       "\n",
       "[315 rows x 11 columns]"
      ]
     },
     "execution_count": 17,
     "metadata": {},
     "output_type": "execute_result"
    }
   ],
   "source": [
    "Final_data_df"
   ]
  },
  {
   "cell_type": "code",
   "execution_count": 18,
   "metadata": {},
   "outputs": [
    {
     "data": {
      "text/plain": [
       "'/Users/tess/Desktop/USC Boot Camp/Project 1/stock-research/notebook'"
      ]
     },
     "execution_count": 18,
     "metadata": {},
     "output_type": "execute_result"
    }
   ],
   "source": [
    "pwd\n"
   ]
  },
  {
   "cell_type": "code",
   "execution_count": 19,
   "metadata": {},
   "outputs": [],
   "source": [
    "Final_data_df.to_csv(\"../data/stocks_closing_info_2015.csv\")"
   ]
  },
  {
   "cell_type": "code",
   "execution_count": null,
   "metadata": {},
   "outputs": [],
   "source": []
  },
  {
   "cell_type": "markdown",
   "metadata": {},
   "source": [
    "# Stock analyzing "
   ]
  },
  {
   "cell_type": "markdown",
   "metadata": {},
   "source": [
    "## Quick Ratio \n",
    "\n",
    "The higher the ratio result, the better a company's liquidity and financial health; the lower the ratio, the more likely the company will struggle with paying debts."
   ]
  },
  {
   "cell_type": "markdown",
   "metadata": {},
   "source": [
    "## Quick ratio plot for YHOO"
   ]
  },
  {
   "cell_type": "code",
   "execution_count": 54,
   "metadata": {},
   "outputs": [
    {
     "data": {
      "text/html": [
       "<div>\n",
       "<style scoped>\n",
       "    .dataframe tbody tr th:only-of-type {\n",
       "        vertical-align: middle;\n",
       "    }\n",
       "\n",
       "    .dataframe tbody tr th {\n",
       "        vertical-align: top;\n",
       "    }\n",
       "\n",
       "    .dataframe thead th {\n",
       "        text-align: right;\n",
       "    }\n",
       "</style>\n",
       "<table border=\"1\" class=\"dataframe\">\n",
       "  <thead>\n",
       "    <tr style=\"text-align: right;\">\n",
       "      <th></th>\n",
       "      <th>Period Ending</th>\n",
       "      <th>Quick Ratio</th>\n",
       "    </tr>\n",
       "  </thead>\n",
       "  <tbody>\n",
       "    <tr>\n",
       "      <th>1761</th>\n",
       "      <td>2012-12-31</td>\n",
       "      <td>438.0</td>\n",
       "    </tr>\n",
       "    <tr>\n",
       "      <th>1762</th>\n",
       "      <td>2013-12-31</td>\n",
       "      <td>375.0</td>\n",
       "    </tr>\n",
       "    <tr>\n",
       "      <th>1763</th>\n",
       "      <td>2014-12-31</td>\n",
       "      <td>209.0</td>\n",
       "    </tr>\n",
       "    <tr>\n",
       "      <th>1764</th>\n",
       "      <td>2015-12-31</td>\n",
       "      <td>588.0</td>\n",
       "    </tr>\n",
       "  </tbody>\n",
       "</table>\n",
       "</div>"
      ],
      "text/plain": [
       "     Period Ending  Quick Ratio\n",
       "1761    2012-12-31        438.0\n",
       "1762    2013-12-31        375.0\n",
       "1763    2014-12-31        209.0\n",
       "1764    2015-12-31        588.0"
      ]
     },
     "execution_count": 54,
     "metadata": {},
     "output_type": "execute_result"
    }
   ],
   "source": [
    "yahoo_quick_ratio = fundamentals.loc[\n",
    "            fundamentals['Ticker Symbol'] == 'YHOO' , \n",
    "            ['Period Ending','Quick Ratio']\n",
    "]\n",
    "yahoo_quick_ratio"
   ]
  },
  {
   "cell_type": "code",
   "execution_count": 56,
   "metadata": {},
   "outputs": [],
   "source": [
    "x_axis = yahoo_quick_ratio['Period Ending']\n",
    "y_axis = yahoo_quick_ratio['Quick Ratio']"
   ]
  },
  {
   "cell_type": "code",
   "execution_count": 59,
   "metadata": {},
   "outputs": [
    {
     "data": {
      "image/png": "[encoded data removed]",
      "text/plain": [
       "<Figure size 432x288 with 1 Axes>"
      ]
     },
     "metadata": {
      "needs_background": "light"
     },
     "output_type": "display_data"
    }
   ],
   "source": [
    "plt.plot(x_axis,y_axis)\n",
    "plt.title(\"YHOO Quick Ratio 2012-2015\")\n",
    "plt.xlabel('Date')\n",
    "plt.ylabel('Quick Ratio')\n",
    "plt.savefig(\"../visuals/YHOO_quickratio.png\")\n",
    "plt.show()"
   ]
  },
  {
   "cell_type": "markdown",
   "metadata": {},
   "source": [
    "## Quick ratio plot for AKAM"
   ]
  },
  {
   "cell_type": "code",
   "execution_count": 62,
   "metadata": {},
   "outputs": [
    {
     "data": {
      "text/html": [
       "<div>\n",
       "<style scoped>\n",
       "    .dataframe tbody tr th:only-of-type {\n",
       "        vertical-align: middle;\n",
       "    }\n",
       "\n",
       "    .dataframe tbody tr th {\n",
       "        vertical-align: top;\n",
       "    }\n",
       "\n",
       "    .dataframe thead th {\n",
       "        text-align: right;\n",
       "    }\n",
       "</style>\n",
       "<table border=\"1\" class=\"dataframe\">\n",
       "  <thead>\n",
       "    <tr style=\"text-align: right;\">\n",
       "      <th></th>\n",
       "      <th>Period Ending</th>\n",
       "      <th>Quick Ratio</th>\n",
       "    </tr>\n",
       "  </thead>\n",
       "  <tbody>\n",
       "    <tr>\n",
       "      <th>72</th>\n",
       "      <td>2012-12-31</td>\n",
       "      <td>359.0</td>\n",
       "    </tr>\n",
       "    <tr>\n",
       "      <th>73</th>\n",
       "      <td>2013-12-31</td>\n",
       "      <td>391.0</td>\n",
       "    </tr>\n",
       "    <tr>\n",
       "      <th>74</th>\n",
       "      <td>2014-12-31</td>\n",
       "      <td>378.0</td>\n",
       "    </tr>\n",
       "    <tr>\n",
       "      <th>75</th>\n",
       "      <td>2015-12-31</td>\n",
       "      <td>377.0</td>\n",
       "    </tr>\n",
       "  </tbody>\n",
       "</table>\n",
       "</div>"
      ],
      "text/plain": [
       "   Period Ending  Quick Ratio\n",
       "72    2012-12-31        359.0\n",
       "73    2013-12-31        391.0\n",
       "74    2014-12-31        378.0\n",
       "75    2015-12-31        377.0"
      ]
     },
     "execution_count": 62,
     "metadata": {},
     "output_type": "execute_result"
    }
   ],
   "source": [
    "akam_quick_ratio = fundamentals.loc[\n",
    "            fundamentals['Ticker Symbol'] == 'AKAM' , \n",
    "            ['Period Ending','Quick Ratio']\n",
    "]\n",
    "akam_quick_ratio"
   ]
  },
  {
   "cell_type": "code",
   "execution_count": 63,
   "metadata": {},
   "outputs": [],
   "source": [
    "x_axis = akam_quick_ratio['Period Ending']\n",
    "y_axis = akam_quick_ratio['Quick Ratio']"
   ]
  },
  {
   "cell_type": "code",
   "execution_count": 64,
   "metadata": {},
   "outputs": [
    {
     "data": {
      "image/png": "[encoded data removed]",
      "text/plain": [
       "<Figure size 432x288 with 1 Axes>"
      ]
     },
     "metadata": {
      "needs_background": "light"
     },
     "output_type": "display_data"
    }
   ],
   "source": [
    "plt.plot(x_axis,y_axis)\n",
    "plt.title(\"AKAM Quick Ratio 2012-2015\")\n",
    "plt.xlabel('Date')\n",
    "plt.ylabel('Quick Ratio')\n",
    "plt.savefig(\"../visuals/AKAM_quickratio.png\")\n",
    "plt.show()"
   ]
  },
  {
   "cell_type": "markdown",
   "metadata": {},
   "source": [
    "## Quick ratio plot for FTR"
   ]
  },
  {
   "cell_type": "code",
   "execution_count": 72,
   "metadata": {},
   "outputs": [
    {
     "data": {
      "text/html": [
       "<div>\n",
       "<style scoped>\n",
       "    .dataframe tbody tr th:only-of-type {\n",
       "        vertical-align: middle;\n",
       "    }\n",
       "\n",
       "    .dataframe tbody tr th {\n",
       "        vertical-align: top;\n",
       "    }\n",
       "\n",
       "    .dataframe thead th {\n",
       "        text-align: right;\n",
       "    }\n",
       "</style>\n",
       "<table border=\"1\" class=\"dataframe\">\n",
       "  <thead>\n",
       "    <tr style=\"text-align: right;\">\n",
       "      <th></th>\n",
       "      <th>Period Ending</th>\n",
       "      <th>Quick Ratio</th>\n",
       "    </tr>\n",
       "  </thead>\n",
       "  <tbody>\n",
       "    <tr>\n",
       "      <th>676</th>\n",
       "      <td>2012-12-31</td>\n",
       "      <td>134.0</td>\n",
       "    </tr>\n",
       "    <tr>\n",
       "      <th>677</th>\n",
       "      <td>2013-12-31</td>\n",
       "      <td>124.0</td>\n",
       "    </tr>\n",
       "    <tr>\n",
       "      <th>678</th>\n",
       "      <td>2014-12-31</td>\n",
       "      <td>94.0</td>\n",
       "    </tr>\n",
       "    <tr>\n",
       "      <th>679</th>\n",
       "      <td>2015-12-31</td>\n",
       "      <td>535.0</td>\n",
       "    </tr>\n",
       "  </tbody>\n",
       "</table>\n",
       "</div>"
      ],
      "text/plain": [
       "    Period Ending  Quick Ratio\n",
       "676    2012-12-31        134.0\n",
       "677    2013-12-31        124.0\n",
       "678    2014-12-31         94.0\n",
       "679    2015-12-31        535.0"
      ]
     },
     "execution_count": 72,
     "metadata": {},
     "output_type": "execute_result"
    }
   ],
   "source": [
    "ftr_quick_ratio = fundamentals.loc[\n",
    "            fundamentals['Ticker Symbol'] == 'FTR' , \n",
    "            ['Period Ending','Quick Ratio']\n",
    "]\n",
    "ftr_quick_ratio"
   ]
  },
  {
   "cell_type": "code",
   "execution_count": 73,
   "metadata": {},
   "outputs": [],
   "source": [
    "x_axis = ftr_quick_ratio['Period Ending']\n",
    "y_axis = ftr_quick_ratio['Quick Ratio']"
   ]
  },
  {
   "cell_type": "code",
   "execution_count": 74,
   "metadata": {},
   "outputs": [
    {
     "data": {
      "image/png": "[encoded data removed]",
      "text/plain": [
       "<Figure size 432x288 with 1 Axes>"
      ]
     },
     "metadata": {
      "needs_background": "light"
     },
     "output_type": "display_data"
    }
   ],
   "source": [
    "plt.plot(x_axis,y_axis)\n",
    "plt.title(\"FTR Quick Ratio 2012-2015\")\n",
    "plt.xlabel('Date')\n",
    "plt.ylabel('Quick Ratio')\n",
    "plt.savefig(\"../visuals/FTR_quickratio.png\")\n",
    "plt.show()"
   ]
  },
  {
   "cell_type": "markdown",
   "metadata": {},
   "source": [
    "## Quick ratio plot for APA"
   ]
  },
  {
   "cell_type": "code",
   "execution_count": 66,
   "metadata": {},
   "outputs": [
    {
     "data": {
      "text/html": [
       "<div>\n",
       "<style scoped>\n",
       "    .dataframe tbody tr th:only-of-type {\n",
       "        vertical-align: middle;\n",
       "    }\n",
       "\n",
       "    .dataframe tbody tr th {\n",
       "        vertical-align: top;\n",
       "    }\n",
       "\n",
       "    .dataframe thead th {\n",
       "        text-align: right;\n",
       "    }\n",
       "</style>\n",
       "<table border=\"1\" class=\"dataframe\">\n",
       "  <thead>\n",
       "    <tr style=\"text-align: right;\">\n",
       "      <th></th>\n",
       "      <th>Period Ending</th>\n",
       "      <th>Quick Ratio</th>\n",
       "    </tr>\n",
       "  </thead>\n",
       "  <tbody>\n",
       "    <tr>\n",
       "      <th>136</th>\n",
       "      <td>2012-12-31</td>\n",
       "      <td>73.0</td>\n",
       "    </tr>\n",
       "    <tr>\n",
       "      <th>137</th>\n",
       "      <td>2013-12-31</td>\n",
       "      <td>116.0</td>\n",
       "    </tr>\n",
       "    <tr>\n",
       "      <th>138</th>\n",
       "      <td>2014-12-31</td>\n",
       "      <td>156.0</td>\n",
       "    </tr>\n",
       "    <tr>\n",
       "      <th>139</th>\n",
       "      <td>2015-12-31</td>\n",
       "      <td>173.0</td>\n",
       "    </tr>\n",
       "  </tbody>\n",
       "</table>\n",
       "</div>"
      ],
      "text/plain": [
       "    Period Ending  Quick Ratio\n",
       "136    2012-12-31         73.0\n",
       "137    2013-12-31        116.0\n",
       "138    2014-12-31        156.0\n",
       "139    2015-12-31        173.0"
      ]
     },
     "execution_count": 66,
     "metadata": {},
     "output_type": "execute_result"
    }
   ],
   "source": [
    "apa_quick_ratio = fundamentals.loc[\n",
    "            fundamentals['Ticker Symbol'] == 'APA' , \n",
    "            ['Period Ending','Quick Ratio']\n",
    "]\n",
    "apa_quick_ratio"
   ]
  },
  {
   "cell_type": "code",
   "execution_count": 67,
   "metadata": {},
   "outputs": [],
   "source": [
    "x_axis = apa_quick_ratio['Period Ending']\n",
    "y_axis = apa_quick_ratio['Quick Ratio']"
   ]
  },
  {
   "cell_type": "code",
   "execution_count": 68,
   "metadata": {},
   "outputs": [
    {
     "data": {
      "image/png": "[encoded data removed]",
      "text/plain": [
       "<Figure size 432x288 with 1 Axes>"
      ]
     },
     "metadata": {
      "needs_background": "light"
     },
     "output_type": "display_data"
    }
   ],
   "source": [
    "plt.plot(x_axis,y_axis)\n",
    "plt.title(\"APA Quick Ratio 2012-2015\")\n",
    "plt.xlabel('Date')\n",
    "plt.ylabel('Quick Ratio')\n",
    "plt.savefig(\"../visuals/APA_quickratio.png\")\n",
    "plt.show()"
   ]
  },
  {
   "cell_type": "markdown",
   "metadata": {},
   "source": [
    "## Quick ratio plot for XEC"
   ]
  },
  {
   "cell_type": "code",
   "execution_count": 69,
   "metadata": {},
   "outputs": [
    {
     "data": {
      "text/html": [
       "<div>\n",
       "<style scoped>\n",
       "    .dataframe tbody tr th:only-of-type {\n",
       "        vertical-align: middle;\n",
       "    }\n",
       "\n",
       "    .dataframe tbody tr th {\n",
       "        vertical-align: top;\n",
       "    }\n",
       "\n",
       "    .dataframe thead th {\n",
       "        text-align: right;\n",
       "    }\n",
       "</style>\n",
       "<table border=\"1\" class=\"dataframe\">\n",
       "  <thead>\n",
       "    <tr style=\"text-align: right;\">\n",
       "      <th></th>\n",
       "      <th>Period Ending</th>\n",
       "      <th>Quick Ratio</th>\n",
       "    </tr>\n",
       "  </thead>\n",
       "  <tbody>\n",
       "    <tr>\n",
       "      <th>1729</th>\n",
       "      <td>2012-12-31</td>\n",
       "      <td>60.0</td>\n",
       "    </tr>\n",
       "    <tr>\n",
       "      <th>1730</th>\n",
       "      <td>2013-12-31</td>\n",
       "      <td>59.0</td>\n",
       "    </tr>\n",
       "    <tr>\n",
       "      <th>1731</th>\n",
       "      <td>2014-12-31</td>\n",
       "      <td>108.0</td>\n",
       "    </tr>\n",
       "    <tr>\n",
       "      <th>1732</th>\n",
       "      <td>2015-12-31</td>\n",
       "      <td>250.0</td>\n",
       "    </tr>\n",
       "  </tbody>\n",
       "</table>\n",
       "</div>"
      ],
      "text/plain": [
       "     Period Ending  Quick Ratio\n",
       "1729    2012-12-31         60.0\n",
       "1730    2013-12-31         59.0\n",
       "1731    2014-12-31        108.0\n",
       "1732    2015-12-31        250.0"
      ]
     },
     "execution_count": 69,
     "metadata": {},
     "output_type": "execute_result"
    }
   ],
   "source": [
    "xec_quick_ratio = fundamentals.loc[\n",
    "            fundamentals['Ticker Symbol'] == 'XEC' , \n",
    "            ['Period Ending','Quick Ratio']\n",
    "]\n",
    "xec_quick_ratio"
   ]
  },
  {
   "cell_type": "code",
   "execution_count": 70,
   "metadata": {},
   "outputs": [],
   "source": [
    "x_axis = xec_quick_ratio['Period Ending']\n",
    "y_axis = xec_quick_ratio['Quick Ratio']"
   ]
  },
  {
   "cell_type": "code",
   "execution_count": 71,
   "metadata": {},
   "outputs": [
    {
     "data": {
      "image/png": "[encoded data removed]",
      "text/plain": [
       "<Figure size 432x288 with 1 Axes>"
      ]
     },
     "metadata": {
      "needs_background": "light"
     },
     "output_type": "display_data"
    }
   ],
   "source": [
    "plt.plot(x_axis,y_axis)\n",
    "plt.title(\"XEC Quick Ratio 2012-2015\")\n",
    "plt.xlabel('Date')\n",
    "plt.ylabel('Quick Ratio')\n",
    "plt.savefig(\"../visuals/XEC_quickratio.png\")\n",
    "plt.show()"
   ]
  },
  {
   "cell_type": "markdown",
   "metadata": {},
   "source": [
    "## EPS\n",
    "The higher the earnings per share of a company, the better is its profitability"
   ]
  },
  {
   "cell_type": "markdown",
   "metadata": {},
   "source": [
    "## EPS plot for YHOO"
   ]
  },
  {
   "cell_type": "code",
   "execution_count": 54,
   "metadata": {},
   "outputs": [
    {
     "data": {
      "text/html": [
       "<div>\n",
       "<style scoped>\n",
       "    .dataframe tbody tr th:only-of-type {\n",
       "        vertical-align: middle;\n",
       "    }\n",
       "\n",
       "    .dataframe tbody tr th {\n",
       "        vertical-align: top;\n",
       "    }\n",
       "\n",
       "    .dataframe thead th {\n",
       "        text-align: right;\n",
       "    }\n",
       "</style>\n",
       "<table border=\"1\" class=\"dataframe\">\n",
       "  <thead>\n",
       "    <tr style=\"text-align: right;\">\n",
       "      <th></th>\n",
       "      <th>Period Ending</th>\n",
       "      <th>Quick Ratio</th>\n",
       "    </tr>\n",
       "  </thead>\n",
       "  <tbody>\n",
       "    <tr>\n",
       "      <th>1761</th>\n",
       "      <td>2012-12-31</td>\n",
       "      <td>438.0</td>\n",
       "    </tr>\n",
       "    <tr>\n",
       "      <th>1762</th>\n",
       "      <td>2013-12-31</td>\n",
       "      <td>375.0</td>\n",
       "    </tr>\n",
       "    <tr>\n",
       "      <th>1763</th>\n",
       "      <td>2014-12-31</td>\n",
       "      <td>209.0</td>\n",
       "    </tr>\n",
       "    <tr>\n",
       "      <th>1764</th>\n",
       "      <td>2015-12-31</td>\n",
       "      <td>588.0</td>\n",
       "    </tr>\n",
       "  </tbody>\n",
       "</table>\n",
       "</div>"
      ],
      "text/plain": [
       "     Period Ending  Quick Ratio\n",
       "1761    2012-12-31        438.0\n",
       "1762    2013-12-31        375.0\n",
       "1763    2014-12-31        209.0\n",
       "1764    2015-12-31        588.0"
      ]
     },
     "execution_count": 54,
     "metadata": {},
     "output_type": "execute_result"
    }
   ],
   "source": [
    "yahoo_eps = fundamentals.loc[\n",
    "            fundamentals['Ticker Symbol'] == 'YHOO' , \n",
    "            ['Period Ending','Earnings Per Share']\n",
    "]\n",
    "yahoo_eps"
   ]
  },
  {
   "cell_type": "code",
   "execution_count": 56,
   "metadata": {},
   "outputs": [],
   "source": [
    "x_axis = yahoo_eps['Period Ending']\n",
    "y_axis = yahoo_eps['Earnings Per Share']"
   ]
  },
  {
   "cell_type": "code",
   "execution_count": 75,
   "metadata": {},
   "outputs": [
    {
     "data": {
      "image/png": "[encoded data removed]",
      "text/plain": [
       "<Figure size 432x288 with 1 Axes>"
      ]
     },
     "metadata": {
      "needs_background": "light"
     },
     "output_type": "display_data"
    }
   ],
   "source": [
    "plt.plot(x_axis,y_axis)\n",
    "plt.title(\"YHOO EPS 2012-2015\")\n",
    "plt.xlabel('Date')\n",
    "plt.ylabel('Ernings')\n",
    "plt.savefig(\"../visuals/YHOO_eps.png\")\n",
    "plt.show()"
   ]
  },
  {
   "cell_type": "markdown",
   "metadata": {},
   "source": [
    "## EPS plot for APA"
   ]
  },
  {
   "cell_type": "code",
   "execution_count": 76,
   "metadata": {},
   "outputs": [
    {
     "data": {
      "text/html": [
       "<div>\n",
       "<style scoped>\n",
       "    .dataframe tbody tr th:only-of-type {\n",
       "        vertical-align: middle;\n",
       "    }\n",
       "\n",
       "    .dataframe tbody tr th {\n",
       "        vertical-align: top;\n",
       "    }\n",
       "\n",
       "    .dataframe thead th {\n",
       "        text-align: right;\n",
       "    }\n",
       "</style>\n",
       "<table border=\"1\" class=\"dataframe\">\n",
       "  <thead>\n",
       "    <tr style=\"text-align: right;\">\n",
       "      <th></th>\n",
       "      <th>Period Ending</th>\n",
       "      <th>Earnings Per Share</th>\n",
       "    </tr>\n",
       "  </thead>\n",
       "  <tbody>\n",
       "    <tr>\n",
       "      <th>136</th>\n",
       "      <td>2012-12-31</td>\n",
       "      <td>4.95</td>\n",
       "    </tr>\n",
       "    <tr>\n",
       "      <th>137</th>\n",
       "      <td>2013-12-31</td>\n",
       "      <td>5.53</td>\n",
       "    </tr>\n",
       "    <tr>\n",
       "      <th>138</th>\n",
       "      <td>2014-12-31</td>\n",
       "      <td>-14.06</td>\n",
       "    </tr>\n",
       "    <tr>\n",
       "      <th>139</th>\n",
       "      <td>2015-12-31</td>\n",
       "      <td>-61.20</td>\n",
       "    </tr>\n",
       "  </tbody>\n",
       "</table>\n",
       "</div>"
      ],
      "text/plain": [
       "    Period Ending  Earnings Per Share\n",
       "136    2012-12-31                4.95\n",
       "137    2013-12-31                5.53\n",
       "138    2014-12-31              -14.06\n",
       "139    2015-12-31              -61.20"
      ]
     },
     "execution_count": 76,
     "metadata": {},
     "output_type": "execute_result"
    }
   ],
   "source": [
    "apa_eps = fundamentals.loc[\n",
    "            fundamentals['Ticker Symbol'] == 'APA' , \n",
    "            ['Period Ending','Earnings Per Share']\n",
    "]\n",
    "apa_eps"
   ]
  },
  {
   "cell_type": "code",
   "execution_count": 77,
   "metadata": {},
   "outputs": [],
   "source": [
    "x_axis = apa_eps['Period Ending']\n",
    "y_axis = apa_eps['Earnings Per Share']"
   ]
  },
  {
   "cell_type": "code",
   "execution_count": 78,
   "metadata": {},
   "outputs": [
    {
     "data": {
      "image/png": "[encoded data removed]",
      "text/plain": [
       "<Figure size 432x288 with 1 Axes>"
      ]
     },
     "metadata": {
      "needs_background": "light"
     },
     "output_type": "display_data"
    }
   ],
   "source": [
    "plt.plot(x_axis,y_axis)\n",
    "plt.title(\"APA EPS 2012-2015\")\n",
    "plt.xlabel('Date')\n",
    "plt.ylabel('Ernings')\n",
    "plt.savefig(\"../visuals/APA_eps.png\")\n",
    "plt.show()"
   ]
  },
  {
   "cell_type": "markdown",
   "metadata": {},
   "source": [
    "## EPS plot for FTR"
   ]
  },
  {
   "cell_type": "code",
   "execution_count": 79,
   "metadata": {},
   "outputs": [
    {
     "data": {
      "text/html": [
       "<div>\n",
       "<style scoped>\n",
       "    .dataframe tbody tr th:only-of-type {\n",
       "        vertical-align: middle;\n",
       "    }\n",
       "\n",
       "    .dataframe tbody tr th {\n",
       "        vertical-align: top;\n",
       "    }\n",
       "\n",
       "    .dataframe thead th {\n",
       "        text-align: right;\n",
       "    }\n",
       "</style>\n",
       "<table border=\"1\" class=\"dataframe\">\n",
       "  <thead>\n",
       "    <tr style=\"text-align: right;\">\n",
       "      <th></th>\n",
       "      <th>Period Ending</th>\n",
       "      <th>Earnings Per Share</th>\n",
       "    </tr>\n",
       "  </thead>\n",
       "  <tbody>\n",
       "    <tr>\n",
       "      <th>676</th>\n",
       "      <td>2012-12-31</td>\n",
       "      <td>0.14</td>\n",
       "    </tr>\n",
       "    <tr>\n",
       "      <th>677</th>\n",
       "      <td>2013-12-31</td>\n",
       "      <td>0.11</td>\n",
       "    </tr>\n",
       "    <tr>\n",
       "      <th>678</th>\n",
       "      <td>2014-12-31</td>\n",
       "      <td>0.13</td>\n",
       "    </tr>\n",
       "    <tr>\n",
       "      <th>679</th>\n",
       "      <td>2015-12-31</td>\n",
       "      <td>-0.29</td>\n",
       "    </tr>\n",
       "  </tbody>\n",
       "</table>\n",
       "</div>"
      ],
      "text/plain": [
       "    Period Ending  Earnings Per Share\n",
       "676    2012-12-31                0.14\n",
       "677    2013-12-31                0.11\n",
       "678    2014-12-31                0.13\n",
       "679    2015-12-31               -0.29"
      ]
     },
     "execution_count": 79,
     "metadata": {},
     "output_type": "execute_result"
    }
   ],
   "source": [
    "ftr_eps = fundamentals.loc[\n",
    "            fundamentals['Ticker Symbol'] == 'FTR' , \n",
    "            ['Period Ending','Earnings Per Share']\n",
    "]\n",
    "ftr_eps"
   ]
  },
  {
   "cell_type": "code",
   "execution_count": 80,
   "metadata": {},
   "outputs": [],
   "source": [
    "x_axis = ftr_eps['Period Ending']\n",
    "y_axis = ftr_eps['Earnings Per Share']"
   ]
  },
  {
   "cell_type": "code",
   "execution_count": 81,
   "metadata": {},
   "outputs": [
    {
     "data": {
      "image/png": "[encoded data removed]",
      "text/plain": [
       "<Figure size 432x288 with 1 Axes>"
      ]
     },
     "metadata": {
      "needs_background": "light"
     },
     "output_type": "display_data"
    }
   ],
   "source": [
    "plt.plot(x_axis,y_axis)\n",
    "plt.title(\"FTR EPS 2012-2015\")\n",
    "plt.xlabel('Date')\n",
    "plt.ylabel('Ernings')\n",
    "plt.savefig(\"../visuals/FTR_eps.png\")\n",
    "plt.show()"
   ]
  },
  {
   "cell_type": "markdown",
   "metadata": {},
   "source": [
    "## EPS plot for XEC"
   ]
  },
  {
   "cell_type": "code",
   "execution_count": 82,
   "metadata": {},
   "outputs": [
    {
     "data": {
      "text/html": [
       "<div>\n",
       "<style scoped>\n",
       "    .dataframe tbody tr th:only-of-type {\n",
       "        vertical-align: middle;\n",
       "    }\n",
       "\n",
       "    .dataframe tbody tr th {\n",
       "        vertical-align: top;\n",
       "    }\n",
       "\n",
       "    .dataframe thead th {\n",
       "        text-align: right;\n",
       "    }\n",
       "</style>\n",
       "<table border=\"1\" class=\"dataframe\">\n",
       "  <thead>\n",
       "    <tr style=\"text-align: right;\">\n",
       "      <th></th>\n",
       "      <th>Period Ending</th>\n",
       "      <th>Earnings Per Share</th>\n",
       "    </tr>\n",
       "  </thead>\n",
       "  <tbody>\n",
       "    <tr>\n",
       "      <th>1729</th>\n",
       "      <td>2012-12-31</td>\n",
       "      <td>4.08</td>\n",
       "    </tr>\n",
       "    <tr>\n",
       "      <th>1730</th>\n",
       "      <td>2013-12-31</td>\n",
       "      <td>6.48</td>\n",
       "    </tr>\n",
       "    <tr>\n",
       "      <th>1731</th>\n",
       "      <td>2014-12-31</td>\n",
       "      <td>5.79</td>\n",
       "    </tr>\n",
       "    <tr>\n",
       "      <th>1732</th>\n",
       "      <td>2015-12-31</td>\n",
       "      <td>-25.92</td>\n",
       "    </tr>\n",
       "  </tbody>\n",
       "</table>\n",
       "</div>"
      ],
      "text/plain": [
       "     Period Ending  Earnings Per Share\n",
       "1729    2012-12-31                4.08\n",
       "1730    2013-12-31                6.48\n",
       "1731    2014-12-31                5.79\n",
       "1732    2015-12-31              -25.92"
      ]
     },
     "execution_count": 82,
     "metadata": {},
     "output_type": "execute_result"
    }
   ],
   "source": [
    "xec_eps = fundamentals.loc[\n",
    "            fundamentals['Ticker Symbol'] == 'XEC' , \n",
    "            ['Period Ending','Earnings Per Share']\n",
    "]\n",
    "xec_eps"
   ]
  },
  {
   "cell_type": "code",
   "execution_count": 83,
   "metadata": {},
   "outputs": [],
   "source": [
    "x_axis = xec_eps['Period Ending']\n",
    "y_axis = xec_eps['Earnings Per Share']"
   ]
  },
  {
   "cell_type": "code",
   "execution_count": 84,
   "metadata": {},
   "outputs": [
    {
     "data": {
      "image/png": "[encoded data removed]",
      "text/plain": [
       "<Figure size 432x288 with 1 Axes>"
      ]
     },
     "metadata": {
      "needs_background": "light"
     },
     "output_type": "display_data"
    }
   ],
   "source": [
    "plt.plot(x_axis,y_axis)\n",
    "plt.title(\"XEC EPS 2012-2015\")\n",
    "plt.xlabel('Date')\n",
    "plt.ylabel('Ernings')\n",
    "plt.savefig(\"../visuals/XEC_eps.png\")\n",
    "plt.show()"
   ]
  },
  {
   "cell_type": "markdown",
   "metadata": {},
   "source": [
    "## EPS plot for AKAM"
   ]
  },
  {
   "cell_type": "code",
   "execution_count": 85,
   "metadata": {},
   "outputs": [
    {
     "data": {
      "text/html": [
       "<div>\n",
       "<style scoped>\n",
       "    .dataframe tbody tr th:only-of-type {\n",
       "        vertical-align: middle;\n",
       "    }\n",
       "\n",
       "    .dataframe tbody tr th {\n",
       "        vertical-align: top;\n",
       "    }\n",
       "\n",
       "    .dataframe thead th {\n",
       "        text-align: right;\n",
       "    }\n",
       "</style>\n",
       "<table border=\"1\" class=\"dataframe\">\n",
       "  <thead>\n",
       "    <tr style=\"text-align: right;\">\n",
       "      <th></th>\n",
       "      <th>Period Ending</th>\n",
       "      <th>Earnings Per Share</th>\n",
       "    </tr>\n",
       "  </thead>\n",
       "  <tbody>\n",
       "    <tr>\n",
       "      <th>72</th>\n",
       "      <td>2012-12-31</td>\n",
       "      <td>1.15</td>\n",
       "    </tr>\n",
       "    <tr>\n",
       "      <th>73</th>\n",
       "      <td>2013-12-31</td>\n",
       "      <td>1.65</td>\n",
       "    </tr>\n",
       "    <tr>\n",
       "      <th>74</th>\n",
       "      <td>2014-12-31</td>\n",
       "      <td>1.87</td>\n",
       "    </tr>\n",
       "    <tr>\n",
       "      <th>75</th>\n",
       "      <td>2015-12-31</td>\n",
       "      <td>1.80</td>\n",
       "    </tr>\n",
       "  </tbody>\n",
       "</table>\n",
       "</div>"
      ],
      "text/plain": [
       "   Period Ending  Earnings Per Share\n",
       "72    2012-12-31                1.15\n",
       "73    2013-12-31                1.65\n",
       "74    2014-12-31                1.87\n",
       "75    2015-12-31                1.80"
      ]
     },
     "execution_count": 85,
     "metadata": {},
     "output_type": "execute_result"
    }
   ],
   "source": [
    "akam_eps = fundamentals.loc[\n",
    "            fundamentals['Ticker Symbol'] == 'AKAM' , \n",
    "            ['Period Ending','Earnings Per Share']\n",
    "]\n",
    "akam_eps"
   ]
  },
  {
   "cell_type": "code",
   "execution_count": 86,
   "metadata": {},
   "outputs": [],
   "source": [
    "x_axis = akam_eps['Period Ending']\n",
    "y_axis = akam_eps['Earnings Per Share']"
   ]
  },
  {
   "cell_type": "code",
   "execution_count": 87,
   "metadata": {},
   "outputs": [
    {
     "data": {
      "image/png": "[encoded data removed]",
      "text/plain": [
       "<Figure size 432x288 with 1 Axes>"
      ]
     },
     "metadata": {
      "needs_background": "light"
     },
     "output_type": "display_data"
    }
   ],
   "source": [
    "plt.plot(x_axis,y_axis)\n",
    "plt.title(\"AKAM EPS 2012-2015\")\n",
    "plt.xlabel('Date')\n",
    "plt.ylabel('Ernings')\n",
    "plt.savefig(\"../visuals/AKAM_eps.png\")\n",
    "plt.show()"
   ]
  },
  {
   "cell_type": "markdown",
   "metadata": {},
   "source": [
    "# Crrelation between stocks \n",
    "\n",
    "A correlation coefficient of 1 indicates a perfect positive correlation between the prices of two stocks, meaning the stocks always move the same direction by the same amount. A coefficient of -1 indicates a perfect negative correlation, meaning that the stocks have historically always moved in the opposite direction.\n",
    "\n",
    "Correlation is used in modern portfolio theory to include diversified assets that can help reduce the overall risk of a portfolio. One of the main criticisms of MPT, however, is that it assumes the correlation between assets is static over time. In reality, correlations often shift, especially during periods of higher volatility. In short, while correlation has some predictive value, the measure has limitations in its use."
   ]
  },
  {
   "cell_type": "code",
   "execution_count": null,
   "metadata": {},
   "outputs": [],
   "source": []
  }
 ],
 "metadata": {
  "kernelspec": {
   "display_name": "Python 3",
   "language": "python",
   "name": "python3"
  },
  "language_info": {
   "codemirror_mode": {
    "name": "ipython",
    "version": 3
   },
   "file_extension": ".py",
   "mimetype": "text/x-python",
   "name": "python",
   "nbconvert_exporter": "python",
   "pygments_lexer": "ipython3",
   "version": "3.8.5"
  }
 },
 "nbformat": 4,
 "nbformat_minor": 4
}
